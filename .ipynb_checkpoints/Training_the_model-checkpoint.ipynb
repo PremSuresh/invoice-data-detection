{
 "cells": [
  {
   "cell_type": "markdown",
   "metadata": {
    "colab_type": "text",
    "id": "mA4rmpHAMn9v"
   },
   "source": [
    "# Base Imports :\n",
    "*   Import our dependencies\n",
    "*   Initialize session and make sure tensorflow doesn't hog all of the gpu for itself by setting the allow growth config\n",
    "\n",
    "\n"
   ]
  },
  {
   "cell_type": "code",
   "execution_count": 1,
   "metadata": {
    "colab": {
     "base_uri": "https://localhost:8080/",
     "height": 34
    },
    "colab_type": "code",
    "id": "4AjOITGzMrfG",
    "outputId": "6a1331a4-10e1-4b99-bf89-61ddbd84f566"
   },
   "outputs": [
    {
     "name": "stderr",
     "output_type": "stream",
     "text": [
      "Using TensorFlow backend.\n"
     ]
    }
   ],
   "source": [
    "# Base Imports \n",
    "import json\n",
    "import pandas as pd\n",
    "from pprint import pprint\n",
    "import argparse\n",
    "import io\n",
    "import re\n",
    "import os\n",
    "from os import listdir\n",
    "from os.path import isfile, join\n",
    "# Import our dependencies\n",
    "import tensorflow as tf\n",
    "import pandas as pd\n",
    "import tensorflow_hub as hub\n",
    "from keras import backend as K\n",
    "import keras.layers as layers\n",
    "from keras.models import Model, load_model\n",
    "from keras.engine import Layer\n",
    "import numpy as np\n",
    "from sklearn.model_selection import train_test_split\n",
    "from keras.utils import multi_gpu_model\n",
    "import webbrowser\n",
    "# Initialize session and make sure tensorflow doesn't hog all of the gpu for itself by setting the allow growth config\n",
    "config = tf.ConfigProto()\n",
    "config.gpu_options.allow_growth=True\n",
    "sess = tf.Session(config=config)\n",
    "K.set_session(sess)"
   ]
  },
  {
   "cell_type": "markdown",
   "metadata": {
    "colab_type": "text",
    "id": "x6dFaChNNYkC"
   },
   "source": [
    "# Elmo Embedding:\n",
    "* Creating a method that loads the Elmo Embedding into our model\n",
    "\n",
    "[note: Look into Bert or XLnet as potential replacements for Elmo]"
   ]
  },
  {
   "cell_type": "code",
   "execution_count": 2,
   "metadata": {
    "colab": {},
    "colab_type": "code",
    "id": "6E39wL32NlWv"
   },
   "outputs": [],
   "source": [
    "class ElmoEmbeddingLayer(Layer):\n",
    "    def __init__(self, **kwargs):\n",
    "        self.dimensions = 1024\n",
    "        self.trainable=True\n",
    "        super(ElmoEmbeddingLayer, self).__init__(**kwargs)\n",
    "\n",
    "    def build(self, input_shape):\n",
    "        self.elmo = hub.Module('https://tfhub.dev/google/elmo/2', trainable=self.trainable,\n",
    "                               name=\"{}_module\".format(self.name))\n",
    "\n",
    "        self.trainable_weights += K.tf.trainable_variables(scope=\"^{}_module/.*\".format(self.name))\n",
    "        super(ElmoEmbeddingLayer, self).build(input_shape)\n",
    "\n",
    "    def call(self, x, mask=None):\n",
    "        result = self.elmo(K.squeeze(K.cast(x, tf.string), axis=1),\n",
    "                      as_dict=True,\n",
    "                      signature='default',\n",
    "                      )['default']\n",
    "        return result\n",
    "\n",
    "    def compute_mask(self, inputs, mask=None):\n",
    "        return K.not_equal(inputs, '--PAD--')\n",
    "\n",
    "    def compute_output_shape(self, input_shape):\n",
    "        return (input_shape[0], self.dimensions)\n"
   ]
  },
  {
   "cell_type": "markdown",
   "metadata": {
    "colab_type": "text",
    "id": "JGlQjQlwOHiO"
   },
   "source": [
    "# Method() for building the model skeleton:\n",
    "* The model architecture is defined and the weights are initialized here\n",
    "*  Change pred layer to add or remove more classes (currently set to differentiate between 19 classes)\n"
   ]
  },
  {
   "cell_type": "code",
   "execution_count": 3,
   "metadata": {
    "colab": {},
    "colab_type": "code",
    "id": "JdaAIDtAOmTp"
   },
   "outputs": [],
   "source": [
    "# Function to build model\n",
    "# Can be tweaked based on size of dataset to prevent overfitting\n",
    "def build_model(): \n",
    "  input_text = layers.Input(shape=(1,), dtype=\"string\")\n",
    "  embedding = ElmoEmbeddingLayer()(input_text)\n",
    "  dense1 = layers.Dense(1024, activation='relu')(embedding)\n",
    "  dense2 = layers.Dense(256,activation=\"relu\")(dense1)\n",
    "  pred = layers.Dense(19, activation='softmax')(dense2)\n",
    "\n",
    "  model = Model(inputs=[input_text], outputs=pred)\n",
    "#   model = multi_gpu_model(base_model, gpus=4)\n",
    "  model.compile(loss='categorical_crossentropy', optimizer='adam', metrics=['accuracy'])\n",
    "  model.summary()\n",
    "  \n",
    "  return(model)"
   ]
  },
  {
   "cell_type": "markdown",
   "metadata": {
    "colab_type": "text",
    "id": "fHl3028gtmUE"
   },
   "source": [
    "## Use the following code to load a pre-trained model directly into our model skeleton:\n",
    "\n",
    "```\n",
    "model=load_model(\"halfnonehalfsac.h5\", custom_objects={'ElmoEmbeddingLayer': ElmoEmbeddingLayer()})\n",
    "```\n",
    "\n"
   ]
  },
  {
   "cell_type": "markdown",
   "metadata": {
    "colab_type": "text",
    "id": "A-9bcQGst8PW"
   },
   "source": [
    "# Loading our  <u>*Labelled*</u> Dataset as a pandas dataframe:\n",
    "## Tips for labelling:\n",
    "* While labelling the dataset it is important preserve the input format of the ocr generated text Blocks .i.e They should not be automatically formatted(by excel)\n",
    "* (Recommended): Create a simple GUI to label faster.\n",
    "* (Alternative): if excel is used for labelling, refer to the following link to stop excel from autoformatting the dataset\n",
    "* https://help.aftership.com/hc/en-us/articles/115008353147-How-to-correctly-import-open-a-CSV-file-in-Excel-\n",
    "\n"
   ]
  },
  {
   "cell_type": "code",
   "execution_count": 4,
   "metadata": {
    "colab": {},
    "colab_type": "code",
    "id": "yoppXeZwN903"
   },
   "outputs": [
    {
     "ename": "FileNotFoundError",
     "evalue": "[Errno 2] File labelled dataset/6167withExtraAndLocation.csv does not exist: 'labelled dataset/6167withExtraAndLocation.csv'",
     "output_type": "error",
     "traceback": [
      "\u001b[1;31m---------------------------------------------------------------------------\u001b[0m",
      "\u001b[1;31mFileNotFoundError\u001b[0m                         Traceback (most recent call last)",
      "\u001b[1;32m<ipython-input-4-ca0ede758825>\u001b[0m in \u001b[0;36m<module>\u001b[1;34m\u001b[0m\n\u001b[0;32m      1\u001b[0m \u001b[1;31m#everything we've labelled so far\u001b[0m\u001b[1;33m\u001b[0m\u001b[1;33m\u001b[0m\u001b[1;33m\u001b[0m\u001b[0m\n\u001b[1;32m----> 2\u001b[1;33m \u001b[0mdf\u001b[0m\u001b[1;33m=\u001b[0m\u001b[0mpd\u001b[0m\u001b[1;33m.\u001b[0m\u001b[0mread_csv\u001b[0m\u001b[1;33m(\u001b[0m\u001b[1;34m'labelled dataset/6167withExtraAndLocation.csv'\u001b[0m\u001b[1;33m)\u001b[0m\u001b[1;33m\u001b[0m\u001b[1;33m\u001b[0m\u001b[0m\n\u001b[0m\u001b[0;32m      3\u001b[0m \u001b[1;31m#Extra data extracted from the excel files given to us\u001b[0m\u001b[1;33m\u001b[0m\u001b[1;33m\u001b[0m\u001b[1;33m\u001b[0m\u001b[0m\n\u001b[0;32m      4\u001b[0m \u001b[1;31m# df1=pd.read_csv('labelled dataset/extradataset.csv')\u001b[0m\u001b[1;33m\u001b[0m\u001b[1;33m\u001b[0m\u001b[1;33m\u001b[0m\u001b[0m\n\u001b[0;32m      5\u001b[0m \u001b[1;31m# df=df.append(df1, ignore_index=True)\u001b[0m\u001b[1;33m\u001b[0m\u001b[1;33m\u001b[0m\u001b[1;33m\u001b[0m\u001b[0m\n",
      "\u001b[1;32m~\\Anaconda3\\lib\\site-packages\\pandas\\io\\parsers.py\u001b[0m in \u001b[0;36mparser_f\u001b[1;34m(filepath_or_buffer, sep, delimiter, header, names, index_col, usecols, squeeze, prefix, mangle_dupe_cols, dtype, engine, converters, true_values, false_values, skipinitialspace, skiprows, skipfooter, nrows, na_values, keep_default_na, na_filter, verbose, skip_blank_lines, parse_dates, infer_datetime_format, keep_date_col, date_parser, dayfirst, cache_dates, iterator, chunksize, compression, thousands, decimal, lineterminator, quotechar, quoting, doublequote, escapechar, comment, encoding, dialect, error_bad_lines, warn_bad_lines, delim_whitespace, low_memory, memory_map, float_precision)\u001b[0m\n\u001b[0;32m    674\u001b[0m         )\n\u001b[0;32m    675\u001b[0m \u001b[1;33m\u001b[0m\u001b[0m\n\u001b[1;32m--> 676\u001b[1;33m         \u001b[1;32mreturn\u001b[0m \u001b[0m_read\u001b[0m\u001b[1;33m(\u001b[0m\u001b[0mfilepath_or_buffer\u001b[0m\u001b[1;33m,\u001b[0m \u001b[0mkwds\u001b[0m\u001b[1;33m)\u001b[0m\u001b[1;33m\u001b[0m\u001b[1;33m\u001b[0m\u001b[0m\n\u001b[0m\u001b[0;32m    677\u001b[0m \u001b[1;33m\u001b[0m\u001b[0m\n\u001b[0;32m    678\u001b[0m     \u001b[0mparser_f\u001b[0m\u001b[1;33m.\u001b[0m\u001b[0m__name__\u001b[0m \u001b[1;33m=\u001b[0m \u001b[0mname\u001b[0m\u001b[1;33m\u001b[0m\u001b[1;33m\u001b[0m\u001b[0m\n",
      "\u001b[1;32m~\\Anaconda3\\lib\\site-packages\\pandas\\io\\parsers.py\u001b[0m in \u001b[0;36m_read\u001b[1;34m(filepath_or_buffer, kwds)\u001b[0m\n\u001b[0;32m    446\u001b[0m \u001b[1;33m\u001b[0m\u001b[0m\n\u001b[0;32m    447\u001b[0m     \u001b[1;31m# Create the parser.\u001b[0m\u001b[1;33m\u001b[0m\u001b[1;33m\u001b[0m\u001b[1;33m\u001b[0m\u001b[0m\n\u001b[1;32m--> 448\u001b[1;33m     \u001b[0mparser\u001b[0m \u001b[1;33m=\u001b[0m \u001b[0mTextFileReader\u001b[0m\u001b[1;33m(\u001b[0m\u001b[0mfp_or_buf\u001b[0m\u001b[1;33m,\u001b[0m \u001b[1;33m**\u001b[0m\u001b[0mkwds\u001b[0m\u001b[1;33m)\u001b[0m\u001b[1;33m\u001b[0m\u001b[1;33m\u001b[0m\u001b[0m\n\u001b[0m\u001b[0;32m    449\u001b[0m \u001b[1;33m\u001b[0m\u001b[0m\n\u001b[0;32m    450\u001b[0m     \u001b[1;32mif\u001b[0m \u001b[0mchunksize\u001b[0m \u001b[1;32mor\u001b[0m \u001b[0miterator\u001b[0m\u001b[1;33m:\u001b[0m\u001b[1;33m\u001b[0m\u001b[1;33m\u001b[0m\u001b[0m\n",
      "\u001b[1;32m~\\Anaconda3\\lib\\site-packages\\pandas\\io\\parsers.py\u001b[0m in \u001b[0;36m__init__\u001b[1;34m(self, f, engine, **kwds)\u001b[0m\n\u001b[0;32m    878\u001b[0m             \u001b[0mself\u001b[0m\u001b[1;33m.\u001b[0m\u001b[0moptions\u001b[0m\u001b[1;33m[\u001b[0m\u001b[1;34m\"has_index_names\"\u001b[0m\u001b[1;33m]\u001b[0m \u001b[1;33m=\u001b[0m \u001b[0mkwds\u001b[0m\u001b[1;33m[\u001b[0m\u001b[1;34m\"has_index_names\"\u001b[0m\u001b[1;33m]\u001b[0m\u001b[1;33m\u001b[0m\u001b[1;33m\u001b[0m\u001b[0m\n\u001b[0;32m    879\u001b[0m \u001b[1;33m\u001b[0m\u001b[0m\n\u001b[1;32m--> 880\u001b[1;33m         \u001b[0mself\u001b[0m\u001b[1;33m.\u001b[0m\u001b[0m_make_engine\u001b[0m\u001b[1;33m(\u001b[0m\u001b[0mself\u001b[0m\u001b[1;33m.\u001b[0m\u001b[0mengine\u001b[0m\u001b[1;33m)\u001b[0m\u001b[1;33m\u001b[0m\u001b[1;33m\u001b[0m\u001b[0m\n\u001b[0m\u001b[0;32m    881\u001b[0m \u001b[1;33m\u001b[0m\u001b[0m\n\u001b[0;32m    882\u001b[0m     \u001b[1;32mdef\u001b[0m \u001b[0mclose\u001b[0m\u001b[1;33m(\u001b[0m\u001b[0mself\u001b[0m\u001b[1;33m)\u001b[0m\u001b[1;33m:\u001b[0m\u001b[1;33m\u001b[0m\u001b[1;33m\u001b[0m\u001b[0m\n",
      "\u001b[1;32m~\\Anaconda3\\lib\\site-packages\\pandas\\io\\parsers.py\u001b[0m in \u001b[0;36m_make_engine\u001b[1;34m(self, engine)\u001b[0m\n\u001b[0;32m   1112\u001b[0m     \u001b[1;32mdef\u001b[0m \u001b[0m_make_engine\u001b[0m\u001b[1;33m(\u001b[0m\u001b[0mself\u001b[0m\u001b[1;33m,\u001b[0m \u001b[0mengine\u001b[0m\u001b[1;33m=\u001b[0m\u001b[1;34m\"c\"\u001b[0m\u001b[1;33m)\u001b[0m\u001b[1;33m:\u001b[0m\u001b[1;33m\u001b[0m\u001b[1;33m\u001b[0m\u001b[0m\n\u001b[0;32m   1113\u001b[0m         \u001b[1;32mif\u001b[0m \u001b[0mengine\u001b[0m \u001b[1;33m==\u001b[0m \u001b[1;34m\"c\"\u001b[0m\u001b[1;33m:\u001b[0m\u001b[1;33m\u001b[0m\u001b[1;33m\u001b[0m\u001b[0m\n\u001b[1;32m-> 1114\u001b[1;33m             \u001b[0mself\u001b[0m\u001b[1;33m.\u001b[0m\u001b[0m_engine\u001b[0m \u001b[1;33m=\u001b[0m \u001b[0mCParserWrapper\u001b[0m\u001b[1;33m(\u001b[0m\u001b[0mself\u001b[0m\u001b[1;33m.\u001b[0m\u001b[0mf\u001b[0m\u001b[1;33m,\u001b[0m \u001b[1;33m**\u001b[0m\u001b[0mself\u001b[0m\u001b[1;33m.\u001b[0m\u001b[0moptions\u001b[0m\u001b[1;33m)\u001b[0m\u001b[1;33m\u001b[0m\u001b[1;33m\u001b[0m\u001b[0m\n\u001b[0m\u001b[0;32m   1115\u001b[0m         \u001b[1;32melse\u001b[0m\u001b[1;33m:\u001b[0m\u001b[1;33m\u001b[0m\u001b[1;33m\u001b[0m\u001b[0m\n\u001b[0;32m   1116\u001b[0m             \u001b[1;32mif\u001b[0m \u001b[0mengine\u001b[0m \u001b[1;33m==\u001b[0m \u001b[1;34m\"python\"\u001b[0m\u001b[1;33m:\u001b[0m\u001b[1;33m\u001b[0m\u001b[1;33m\u001b[0m\u001b[0m\n",
      "\u001b[1;32m~\\Anaconda3\\lib\\site-packages\\pandas\\io\\parsers.py\u001b[0m in \u001b[0;36m__init__\u001b[1;34m(self, src, **kwds)\u001b[0m\n\u001b[0;32m   1889\u001b[0m         \u001b[0mkwds\u001b[0m\u001b[1;33m[\u001b[0m\u001b[1;34m\"usecols\"\u001b[0m\u001b[1;33m]\u001b[0m \u001b[1;33m=\u001b[0m \u001b[0mself\u001b[0m\u001b[1;33m.\u001b[0m\u001b[0musecols\u001b[0m\u001b[1;33m\u001b[0m\u001b[1;33m\u001b[0m\u001b[0m\n\u001b[0;32m   1890\u001b[0m \u001b[1;33m\u001b[0m\u001b[0m\n\u001b[1;32m-> 1891\u001b[1;33m         \u001b[0mself\u001b[0m\u001b[1;33m.\u001b[0m\u001b[0m_reader\u001b[0m \u001b[1;33m=\u001b[0m \u001b[0mparsers\u001b[0m\u001b[1;33m.\u001b[0m\u001b[0mTextReader\u001b[0m\u001b[1;33m(\u001b[0m\u001b[0msrc\u001b[0m\u001b[1;33m,\u001b[0m \u001b[1;33m**\u001b[0m\u001b[0mkwds\u001b[0m\u001b[1;33m)\u001b[0m\u001b[1;33m\u001b[0m\u001b[1;33m\u001b[0m\u001b[0m\n\u001b[0m\u001b[0;32m   1892\u001b[0m         \u001b[0mself\u001b[0m\u001b[1;33m.\u001b[0m\u001b[0munnamed_cols\u001b[0m \u001b[1;33m=\u001b[0m \u001b[0mself\u001b[0m\u001b[1;33m.\u001b[0m\u001b[0m_reader\u001b[0m\u001b[1;33m.\u001b[0m\u001b[0munnamed_cols\u001b[0m\u001b[1;33m\u001b[0m\u001b[1;33m\u001b[0m\u001b[0m\n\u001b[0;32m   1893\u001b[0m \u001b[1;33m\u001b[0m\u001b[0m\n",
      "\u001b[1;32mpandas\\_libs\\parsers.pyx\u001b[0m in \u001b[0;36mpandas._libs.parsers.TextReader.__cinit__\u001b[1;34m()\u001b[0m\n",
      "\u001b[1;32mpandas\\_libs\\parsers.pyx\u001b[0m in \u001b[0;36mpandas._libs.parsers.TextReader._setup_parser_source\u001b[1;34m()\u001b[0m\n",
      "\u001b[1;31mFileNotFoundError\u001b[0m: [Errno 2] File labelled dataset/6167withExtraAndLocation.csv does not exist: 'labelled dataset/6167withExtraAndLocation.csv'"
     ]
    }
   ],
   "source": [
    "#everything we've labelled so far\n",
    "df=pd.read_csv('labelled dataset/SuperDuperClean6167dataset.csv')\n",
    "#Extra data extracted from the excel files given to us\n",
    "df1=pd.read_csv('labelled dataset/extradataset.csv')\n",
    "df=df.append(df1, ignore_index=True)"
   ]
  },
  {
   "cell_type": "code",
   "execution_count": 7,
   "metadata": {},
   "outputs": [],
   "source": [
    "df.to_csv(r'forDatabricks.csv')"
   ]
  },
  {
   "cell_type": "markdown",
   "metadata": {
    "colab_type": "text",
    "id": "f0xUTj6OutTk"
   },
   "source": [
    "## The more balanced the counts of the different classes are the better:\n",
    "* under representation is fine but over representation(example: none) should be avoided."
   ]
  },
  {
   "cell_type": "code",
   "execution_count": 9,
   "metadata": {
    "colab": {
     "base_uri": "https://localhost:8080/",
     "height": 353
    },
    "colab_type": "code",
    "id": "41C_BI8xuUGR",
    "outputId": "7c73e4cd-5b3f-4980-a748-489136c70645"
   },
   "outputs": [
    {
     "data": {
      "text/plain": [
       "none                 2869\n",
       "address               701\n",
       "sac                   652\n",
       "date                  551\n",
       "amount                370\n",
       "intents_VendorGST     364\n",
       "vendor_name           361\n",
       "description           245\n",
       "total_amount          203\n",
       "ph_no                 143\n",
       "quantity              107\n",
       "tax_amount             99\n",
       "tot_in_words           95\n",
       "intents_OrgGST         73\n",
       "tax_percent            71\n",
       "email                  62\n",
       "pan                    48\n",
       "bill_period            31\n",
       "cin                    27\n",
       "Name: label, dtype: int64"
      ]
     },
     "execution_count": 9,
     "metadata": {},
     "output_type": "execute_result"
    }
   ],
   "source": [
    "pd.Series(df.label).value_counts()"
   ]
  },
  {
   "cell_type": "code",
   "execution_count": 0,
   "metadata": {
    "colab": {},
    "colab_type": "code",
    "id": "DpMC7iOdwrXn"
   },
   "outputs": [],
   "source": [
    "#for removing half the none blocks\n",
    "#run this twice for nones alone\n",
    "j=0\n",
    "for index, row in df.iterrows():\n",
    "    if(row['label']=='none'):\n",
    "        j=j+1\n",
    "        if j%2==0:\n",
    "            #print(j)\n",
    "            df.drop(index, inplace=True)"
   ]
  },
  {
   "cell_type": "code",
   "execution_count": 9,
   "metadata": {
    "colab": {
     "base_uri": "https://localhost:8080/",
     "height": 1000
    },
    "colab_type": "code",
    "id": "KUP8G1hZxClr",
    "outputId": "e3deba48-b180-423a-c4b6-f6059a642001"
   },
   "outputs": [
    {
     "data": {
      "text/html": [
       "<div>\n",
       "<style scoped>\n",
       "    .dataframe tbody tr th:only-of-type {\n",
       "        vertical-align: middle;\n",
       "    }\n",
       "\n",
       "    .dataframe tbody tr th {\n",
       "        vertical-align: top;\n",
       "    }\n",
       "\n",
       "    .dataframe thead th {\n",
       "        text-align: right;\n",
       "    }\n",
       "</style>\n",
       "<table border=\"1\" class=\"dataframe\">\n",
       "  <thead>\n",
       "    <tr style=\"text-align: right;\">\n",
       "      <th></th>\n",
       "      <th>Blocks</th>\n",
       "      <th>label</th>\n",
       "      <th>Source</th>\n",
       "    </tr>\n",
       "  </thead>\n",
       "  <tbody>\n",
       "    <tr>\n",
       "      <th>0</th>\n",
       "      <td>GST NO. 37AADCV9696D2ZQ</td>\n",
       "      <td>intents_VendorGST</td>\n",
       "      <td>219143549.pdf</td>\n",
       "    </tr>\n",
       "    <tr>\n",
       "      <th>1</th>\n",
       "      <td>t'ul Mag Gemoval</td>\n",
       "      <td>none</td>\n",
       "      <td>219143549.pdf</td>\n",
       "    </tr>\n",
       "    <tr>\n",
       "      <th>2</th>\n",
       "      <td>VASHANTH OUTDOOR MEDIA PVT. LTD.</td>\n",
       "      <td>vendor_name</td>\n",
       "      <td>219143549.pdf</td>\n",
       "    </tr>\n",
       "    <tr>\n",
       "      <th>3</th>\n",
       "      <td>· H.0: # 517, Industrial Estate, Renigunta Roa...</td>\n",
       "      <td>address</td>\n",
       "      <td>219143549.pdf</td>\n",
       "    </tr>\n",
       "    <tr>\n",
       "      <th>4</th>\n",
       "      <td>B.O : # 8/79/2, Joythi Enclaves, 2nd Floor, Op...</td>\n",
       "      <td>address</td>\n",
       "      <td>219143549.pdf</td>\n",
       "    </tr>\n",
       "    <tr>\n",
       "      <th>5</th>\n",
       "      <td>B.O: #21/3, Naveen Flats, Meenakshi Street, Pe...</td>\n",
       "      <td>address</td>\n",
       "      <td>219143549.pdf</td>\n",
       "    </tr>\n",
       "    <tr>\n",
       "      <th>6</th>\n",
       "      <td>email: vashanthoutdoormedia@gmail.com. Cell: +...</td>\n",
       "      <td>email</td>\n",
       "      <td>219143549.pdf</td>\n",
       "    </tr>\n",
       "    <tr>\n",
       "      <th>10</th>\n",
       "      <td>State : ANDHRA</td>\n",
       "      <td>address</td>\n",
       "      <td>219143549.pdf</td>\n",
       "    </tr>\n",
       "    <tr>\n",
       "      <th>11</th>\n",
       "      <td>PRADESH</td>\n",
       "      <td>address</td>\n",
       "      <td>219143549.pdf</td>\n",
       "    </tr>\n",
       "    <tr>\n",
       "      <th>12</th>\n",
       "      <td>VASHANTH OUTDOOR MEDIA PVT LTD</td>\n",
       "      <td>vendor_name</td>\n",
       "      <td>219143549.pdf</td>\n",
       "    </tr>\n",
       "    <tr>\n",
       "      <th>13</th>\n",
       "      <td>INV. No: 35/VOM PL-TPT/2018-19</td>\n",
       "      <td>none</td>\n",
       "      <td>219143549.pdf</td>\n",
       "    </tr>\n",
       "    <tr>\n",
       "      <th>14</th>\n",
       "      <td>Dt:05.10.2018</td>\n",
       "      <td>date</td>\n",
       "      <td>219143549.pdf</td>\n",
       "    </tr>\n",
       "    <tr>\n",
       "      <th>15</th>\n",
       "      <td>No.19-3-3/G3/A, Srinivasapuram, Renigunta Road,</td>\n",
       "      <td>address</td>\n",
       "      <td>219143549.pdf</td>\n",
       "    </tr>\n",
       "    <tr>\n",
       "      <th>16</th>\n",
       "      <td>Beside Diamond Collections,</td>\n",
       "      <td>address</td>\n",
       "      <td>219143549.pdf</td>\n",
       "    </tr>\n",
       "    <tr>\n",
       "      <th>17</th>\n",
       "      <td>Tirupati-517501.</td>\n",
       "      <td>address</td>\n",
       "      <td>219143549.pdf</td>\n",
       "    </tr>\n",
       "    <tr>\n",
       "      <th>18</th>\n",
       "      <td>PO.NO:12561</td>\n",
       "      <td>address</td>\n",
       "      <td>219143549.pdf</td>\n",
       "    </tr>\n",
       "    <tr>\n",
       "      <th>19</th>\n",
       "      <td>GSTIN No. 37AADCV9696D2ZQ</td>\n",
       "      <td>intents_VendorGST</td>\n",
       "      <td>219143549.pdf</td>\n",
       "    </tr>\n",
       "    <tr>\n",
       "      <th>23</th>\n",
       "      <td>Details of Recipient :</td>\n",
       "      <td>none</td>\n",
       "      <td>219143549.pdf</td>\n",
       "    </tr>\n",
       "    <tr>\n",
       "      <th>24</th>\n",
       "      <td>M/s. Matrimony.com Limited</td>\n",
       "      <td>vendor_name</td>\n",
       "      <td>219143549.pdf</td>\n",
       "    </tr>\n",
       "    <tr>\n",
       "      <th>25</th>\n",
       "      <td>Door # 40-7-27, Donka Road,</td>\n",
       "      <td>address</td>\n",
       "      <td>219143549.pdf</td>\n",
       "    </tr>\n",
       "    <tr>\n",
       "      <th>26</th>\n",
       "      <td>Moghulrajpuram, Land Mark : Near Jammi Chettu ...</td>\n",
       "      <td>address</td>\n",
       "      <td>219143549.pdf</td>\n",
       "    </tr>\n",
       "    <tr>\n",
       "      <th>27</th>\n",
       "      <td>Vijayawada - 520012</td>\n",
       "      <td>address</td>\n",
       "      <td>219143549.pdf</td>\n",
       "    </tr>\n",
       "    <tr>\n",
       "      <th>29</th>\n",
       "      <td>GSTIN No:37AADCM0845M128</td>\n",
       "      <td>intents_OrgGST</td>\n",
       "      <td>219143549.pdf</td>\n",
       "    </tr>\n",
       "    <tr>\n",
       "      <th>32</th>\n",
       "      <td>Tax Portion</td>\n",
       "      <td>none</td>\n",
       "      <td>219143549.pdf</td>\n",
       "    </tr>\n",
       "    <tr>\n",
       "      <th>34</th>\n",
       "      <td>SAC code :995422</td>\n",
       "      <td>sac</td>\n",
       "      <td>219143549.pdf</td>\n",
       "    </tr>\n",
       "    <tr>\n",
       "      <th>37</th>\n",
       "      <td>Quantity</td>\n",
       "      <td>none</td>\n",
       "      <td>219143549.pdf</td>\n",
       "    </tr>\n",
       "    <tr>\n",
       "      <th>41</th>\n",
       "      <td>18%</td>\n",
       "      <td>tax_percent</td>\n",
       "      <td>219143549.pdf</td>\n",
       "    </tr>\n",
       "    <tr>\n",
       "      <th>42</th>\n",
       "      <td>ADVERTISEMENT SERVICE CHARGES</td>\n",
       "      <td>none</td>\n",
       "      <td>219143549.pdf</td>\n",
       "    </tr>\n",
       "    <tr>\n",
       "      <th>43</th>\n",
       "      <td>1</td>\n",
       "      <td>quantity</td>\n",
       "      <td>219143549.pdf</td>\n",
       "    </tr>\n",
       "    <tr>\n",
       "      <th>44</th>\n",
       "      <td>Telugu Matrimony Mini Hoardings Promotions in ...</td>\n",
       "      <td>description</td>\n",
       "      <td>219143549.pdf</td>\n",
       "    </tr>\n",
       "    <tr>\n",
       "      <th>...</th>\n",
       "      <td>...</td>\n",
       "      <td>...</td>\n",
       "      <td>...</td>\n",
       "    </tr>\n",
       "    <tr>\n",
       "      <th>7042</th>\n",
       "      <td>GSTIN/UIN: 21ABDPM8544M1ZG</td>\n",
       "      <td>intents_VendorGST</td>\n",
       "      <td>excel_file</td>\n",
       "    </tr>\n",
       "    <tr>\n",
       "      <th>7043</th>\n",
       "      <td>:19AJPPP3693N1Z3</td>\n",
       "      <td>intents_VendorGST</td>\n",
       "      <td>excel_file</td>\n",
       "    </tr>\n",
       "    <tr>\n",
       "      <th>7044</th>\n",
       "      <td>G STIN: 36ARDPK4726D2Z0</td>\n",
       "      <td>intents_VendorGST</td>\n",
       "      <td>excel_file</td>\n",
       "    </tr>\n",
       "    <tr>\n",
       "      <th>7045</th>\n",
       "      <td>GSTIN: 36AN0PR2651K2ZF</td>\n",
       "      <td>intents_VendorGST</td>\n",
       "      <td>excel_file</td>\n",
       "    </tr>\n",
       "    <tr>\n",
       "      <th>7046</th>\n",
       "      <td>GSTIN/UIN : 19AABCG1866A1ZW</td>\n",
       "      <td>intents_VendorGST</td>\n",
       "      <td>excel_file</td>\n",
       "    </tr>\n",
       "    <tr>\n",
       "      <th>7047</th>\n",
       "      <td>GSTIN:29AABCR7796N1ZC</td>\n",
       "      <td>intents_VendorGST</td>\n",
       "      <td>excel_file</td>\n",
       "    </tr>\n",
       "    <tr>\n",
       "      <th>7048</th>\n",
       "      <td>GSTIN: 27ARKPD0146M1ZR</td>\n",
       "      <td>intents_VendorGST</td>\n",
       "      <td>excel_file</td>\n",
       "    </tr>\n",
       "    <tr>\n",
       "      <th>7049</th>\n",
       "      <td>GSTIN/UIN:37AABCB5576G3ZI</td>\n",
       "      <td>intents_VendorGST</td>\n",
       "      <td>excel_file</td>\n",
       "    </tr>\n",
       "    <tr>\n",
       "      <th>7050</th>\n",
       "      <td>GSTIN: 32AAFFJ3695M1ZZ</td>\n",
       "      <td>intents_VendorGST</td>\n",
       "      <td>excel_file</td>\n",
       "    </tr>\n",
       "    <tr>\n",
       "      <th>7051</th>\n",
       "      <td>33AAFPM2486F1ZT</td>\n",
       "      <td>intents_VendorGST</td>\n",
       "      <td>excel_file</td>\n",
       "    </tr>\n",
       "    <tr>\n",
       "      <th>7052</th>\n",
       "      <td>GSTIN:24AAAHL6994E1Z4</td>\n",
       "      <td>intents_VendorGST</td>\n",
       "      <td>excel_file</td>\n",
       "    </tr>\n",
       "    <tr>\n",
       "      <th>7053</th>\n",
       "      <td>GSTIN:36AJCPK1959P2ZN</td>\n",
       "      <td>intents_VendorGST</td>\n",
       "      <td>excel_file</td>\n",
       "    </tr>\n",
       "    <tr>\n",
       "      <th>7054</th>\n",
       "      <td>GSTIN:27AAACQ0609C1ZZ</td>\n",
       "      <td>intents_VendorGST</td>\n",
       "      <td>excel_file</td>\n",
       "    </tr>\n",
       "    <tr>\n",
       "      <th>7055</th>\n",
       "      <td>GSTIN:07AAECG5523F1ZU</td>\n",
       "      <td>intents_VendorGST</td>\n",
       "      <td>excel_file</td>\n",
       "    </tr>\n",
       "    <tr>\n",
       "      <th>7056</th>\n",
       "      <td>GSTIN:07AAHCS4162M1ZZ</td>\n",
       "      <td>intents_VendorGST</td>\n",
       "      <td>excel_file</td>\n",
       "    </tr>\n",
       "    <tr>\n",
       "      <th>7057</th>\n",
       "      <td>GS TI N:36ACHFS9768C1ZN</td>\n",
       "      <td>intents_VendorGST</td>\n",
       "      <td>excel_file</td>\n",
       "    </tr>\n",
       "    <tr>\n",
       "      <th>7058</th>\n",
       "      <td>GSTIN:29AABCB5576GRZR</td>\n",
       "      <td>intents_VendorGST</td>\n",
       "      <td>excel_file</td>\n",
       "    </tr>\n",
       "    <tr>\n",
       "      <th>7059</th>\n",
       "      <td>GSTIN: 33ABDPS1098Q1Z2</td>\n",
       "      <td>intents_VendorGST</td>\n",
       "      <td>excel_file</td>\n",
       "    </tr>\n",
       "    <tr>\n",
       "      <th>7060</th>\n",
       "      <td>GSTIN:07AAEFG4400A1Z8</td>\n",
       "      <td>intents_VendorGST</td>\n",
       "      <td>excel_file</td>\n",
       "    </tr>\n",
       "    <tr>\n",
       "      <th>7061</th>\n",
       "      <td>Company GSTIN 33AAEPA3820A1ZS</td>\n",
       "      <td>intents_VendorGST</td>\n",
       "      <td>excel_file</td>\n",
       "    </tr>\n",
       "    <tr>\n",
       "      <th>7062</th>\n",
       "      <td>GSTIN: 33AAACM2431L1ZR</td>\n",
       "      <td>intents_VendorGST</td>\n",
       "      <td>excel_file</td>\n",
       "    </tr>\n",
       "    <tr>\n",
       "      <th>7063</th>\n",
       "      <td>GSTINA:  33ACCPJ6591M1ZA</td>\n",
       "      <td>intents_VendorGST</td>\n",
       "      <td>excel_file</td>\n",
       "    </tr>\n",
       "    <tr>\n",
       "      <th>7064</th>\n",
       "      <td>GSTIN#: 21ABTPD8743M1Z8</td>\n",
       "      <td>intents_VendorGST</td>\n",
       "      <td>excel_file</td>\n",
       "    </tr>\n",
       "    <tr>\n",
       "      <th>7065</th>\n",
       "      <td>GSTIN-27AADCN9802F1ZG</td>\n",
       "      <td>intents_VendorGST</td>\n",
       "      <td>excel_file</td>\n",
       "    </tr>\n",
       "    <tr>\n",
       "      <th>7066</th>\n",
       "      <td>GSTIN : 27AAACI1195H1ZM</td>\n",
       "      <td>intents_VendorGST</td>\n",
       "      <td>excel_file</td>\n",
       "    </tr>\n",
       "    <tr>\n",
       "      <th>7067</th>\n",
       "      <td>32AABCB5576G5ZQ</td>\n",
       "      <td>intents_VendorGST</td>\n",
       "      <td>excel_file</td>\n",
       "    </tr>\n",
       "    <tr>\n",
       "      <th>7068</th>\n",
       "      <td>GSTIN/UIN: 27AAHCR5539F1Z6</td>\n",
       "      <td>intents_VendorGST</td>\n",
       "      <td>excel_file</td>\n",
       "    </tr>\n",
       "    <tr>\n",
       "      <th>7069</th>\n",
       "      <td>GST No: . *32AACFN1353M1ZF</td>\n",
       "      <td>intents_VendorGST</td>\n",
       "      <td>excel_file</td>\n",
       "    </tr>\n",
       "    <tr>\n",
       "      <th>7070</th>\n",
       "      <td>GST Number: 29AAJCS2290L1ZS</td>\n",
       "      <td>intents_VendorGST</td>\n",
       "      <td>excel_file</td>\n",
       "    </tr>\n",
       "    <tr>\n",
       "      <th>7071</th>\n",
       "      <td>GSTIN/UIN: 19AGQPP6671G1ZO</td>\n",
       "      <td>intents_VendorGST</td>\n",
       "      <td>excel_file</td>\n",
       "    </tr>\n",
       "  </tbody>\n",
       "</table>\n",
       "<p>4921 rows × 3 columns</p>\n",
       "</div>"
      ],
      "text/plain": [
       "                                                 Blocks  ...         Source\n",
       "0                               GST NO. 37AADCV9696D2ZQ  ...  219143549.pdf\n",
       "1                                      t'ul Mag Gemoval  ...  219143549.pdf\n",
       "2                      VASHANTH OUTDOOR MEDIA PVT. LTD.  ...  219143549.pdf\n",
       "3     · H.0: # 517, Industrial Estate, Renigunta Roa...  ...  219143549.pdf\n",
       "4     B.O : # 8/79/2, Joythi Enclaves, 2nd Floor, Op...  ...  219143549.pdf\n",
       "5     B.O: #21/3, Naveen Flats, Meenakshi Street, Pe...  ...  219143549.pdf\n",
       "6     email: vashanthoutdoormedia@gmail.com. Cell: +...  ...  219143549.pdf\n",
       "10                                       State : ANDHRA  ...  219143549.pdf\n",
       "11                                              PRADESH  ...  219143549.pdf\n",
       "12                       VASHANTH OUTDOOR MEDIA PVT LTD  ...  219143549.pdf\n",
       "13                       INV. No: 35/VOM PL-TPT/2018-19  ...  219143549.pdf\n",
       "14                                        Dt:05.10.2018  ...  219143549.pdf\n",
       "15      No.19-3-3/G3/A, Srinivasapuram, Renigunta Road,  ...  219143549.pdf\n",
       "16                          Beside Diamond Collections,  ...  219143549.pdf\n",
       "17                                     Tirupati-517501.  ...  219143549.pdf\n",
       "18                                          PO.NO:12561  ...  219143549.pdf\n",
       "19                            GSTIN No. 37AADCV9696D2ZQ  ...  219143549.pdf\n",
       "23                               Details of Recipient :  ...  219143549.pdf\n",
       "24                           M/s. Matrimony.com Limited  ...  219143549.pdf\n",
       "25                          Door # 40-7-27, Donka Road,  ...  219143549.pdf\n",
       "26    Moghulrajpuram, Land Mark : Near Jammi Chettu ...  ...  219143549.pdf\n",
       "27                                  Vijayawada - 520012  ...  219143549.pdf\n",
       "29                             GSTIN No:37AADCM0845M128  ...  219143549.pdf\n",
       "32                                          Tax Portion  ...  219143549.pdf\n",
       "34                                     SAC code :995422  ...  219143549.pdf\n",
       "37                                             Quantity  ...  219143549.pdf\n",
       "41                                                  18%  ...  219143549.pdf\n",
       "42                        ADVERTISEMENT SERVICE CHARGES  ...  219143549.pdf\n",
       "43                                                    1  ...  219143549.pdf\n",
       "44    Telugu Matrimony Mini Hoardings Promotions in ...  ...  219143549.pdf\n",
       "...                                                 ...  ...            ...\n",
       "7042                         GSTIN/UIN: 21ABDPM8544M1ZG  ...     excel_file\n",
       "7043                                   :19AJPPP3693N1Z3  ...     excel_file\n",
       "7044                            G STIN: 36ARDPK4726D2Z0  ...     excel_file\n",
       "7045                             GSTIN: 36AN0PR2651K2ZF  ...     excel_file\n",
       "7046                        GSTIN/UIN : 19AABCG1866A1ZW  ...     excel_file\n",
       "7047                              GSTIN:29AABCR7796N1ZC  ...     excel_file\n",
       "7048                             GSTIN: 27ARKPD0146M1ZR  ...     excel_file\n",
       "7049                          GSTIN/UIN:37AABCB5576G3ZI  ...     excel_file\n",
       "7050                             GSTIN: 32AAFFJ3695M1ZZ  ...     excel_file\n",
       "7051                                    33AAFPM2486F1ZT  ...     excel_file\n",
       "7052                              GSTIN:24AAAHL6994E1Z4  ...     excel_file\n",
       "7053                              GSTIN:36AJCPK1959P2ZN  ...     excel_file\n",
       "7054                              GSTIN:27AAACQ0609C1ZZ  ...     excel_file\n",
       "7055                              GSTIN:07AAECG5523F1ZU  ...     excel_file\n",
       "7056                              GSTIN:07AAHCS4162M1ZZ  ...     excel_file\n",
       "7057                            GS TI N:36ACHFS9768C1ZN  ...     excel_file\n",
       "7058                              GSTIN:29AABCB5576GRZR  ...     excel_file\n",
       "7059                             GSTIN: 33ABDPS1098Q1Z2  ...     excel_file\n",
       "7060                              GSTIN:07AAEFG4400A1Z8  ...     excel_file\n",
       "7061                      Company GSTIN 33AAEPA3820A1ZS  ...     excel_file\n",
       "7062                             GSTIN: 33AAACM2431L1ZR  ...     excel_file\n",
       "7063                           GSTINA:  33ACCPJ6591M1ZA  ...     excel_file\n",
       "7064                            GSTIN#: 21ABTPD8743M1Z8  ...     excel_file\n",
       "7065                              GSTIN-27AADCN9802F1ZG  ...     excel_file\n",
       "7066                            GSTIN : 27AAACI1195H1ZM  ...     excel_file\n",
       "7067                                    32AABCB5576G5ZQ  ...     excel_file\n",
       "7068                         GSTIN/UIN: 27AAHCR5539F1Z6  ...     excel_file\n",
       "7069                         GST No: . *32AACFN1353M1ZF  ...     excel_file\n",
       "7070                        GST Number: 29AAJCS2290L1ZS  ...     excel_file\n",
       "7071                         GSTIN/UIN: 19AGQPP6671G1ZO  ...     excel_file\n",
       "\n",
       "[4921 rows x 3 columns]"
      ]
     },
     "execution_count": 9,
     "metadata": {
      "tags": []
     },
     "output_type": "execute_result"
    }
   ],
   "source": [
    "df"
   ]
  },
  {
   "cell_type": "markdown",
   "metadata": {
    "colab_type": "text",
    "id": "DrA44soZw2Xy"
   },
   "source": [
    "# Preprocessing the dataframe to make it suitable for the ElmoEmbedding:\n",
    "* get_dummies function takes a single column and performs one-hot encoding on it.\n",
    "* Through experimentation it was found that converting everything to lowercase before training(or predicting) *generally* works better."
   ]
  },
  {
   "cell_type": "code",
   "execution_count": 10,
   "metadata": {
    "colab": {
     "base_uri": "https://localhost:8080/",
     "height": 316
    },
    "colab_type": "code",
    "id": "eJUJfuwzxFTe",
    "outputId": "f8fd728b-e421-4327-cdb2-38f25e55d95f"
   },
   "outputs": [
    {
     "data": {
      "text/html": [
       "<div>\n",
       "<style scoped>\n",
       "    .dataframe tbody tr th:only-of-type {\n",
       "        vertical-align: middle;\n",
       "    }\n",
       "\n",
       "    .dataframe tbody tr th {\n",
       "        vertical-align: top;\n",
       "    }\n",
       "\n",
       "    .dataframe thead th {\n",
       "        text-align: right;\n",
       "    }\n",
       "</style>\n",
       "<table border=\"1\" class=\"dataframe\">\n",
       "  <thead>\n",
       "    <tr style=\"text-align: right;\">\n",
       "      <th></th>\n",
       "      <th>Blocks</th>\n",
       "      <th>label_address</th>\n",
       "      <th>label_amount</th>\n",
       "      <th>label_bill_period</th>\n",
       "      <th>label_cin</th>\n",
       "      <th>label_date</th>\n",
       "      <th>label_description</th>\n",
       "      <th>label_email</th>\n",
       "      <th>label_intents_OrgGST</th>\n",
       "      <th>label_intents_VendorGST</th>\n",
       "      <th>label_none</th>\n",
       "      <th>label_pan</th>\n",
       "      <th>label_ph_no</th>\n",
       "      <th>label_quantity</th>\n",
       "      <th>label_sac</th>\n",
       "      <th>label_tax_amount</th>\n",
       "      <th>label_tax_percent</th>\n",
       "      <th>label_tot_in_words</th>\n",
       "      <th>label_total_amount</th>\n",
       "      <th>label_vendor_name</th>\n",
       "    </tr>\n",
       "  </thead>\n",
       "  <tbody>\n",
       "    <tr>\n",
       "      <th>5864</th>\n",
       "      <td>77</td>\n",
       "      <td>0</td>\n",
       "      <td>0</td>\n",
       "      <td>0</td>\n",
       "      <td>0</td>\n",
       "      <td>0</td>\n",
       "      <td>0</td>\n",
       "      <td>0</td>\n",
       "      <td>0</td>\n",
       "      <td>0</td>\n",
       "      <td>0</td>\n",
       "      <td>0</td>\n",
       "      <td>0</td>\n",
       "      <td>1</td>\n",
       "      <td>0</td>\n",
       "      <td>0</td>\n",
       "      <td>0</td>\n",
       "      <td>0</td>\n",
       "      <td>0</td>\n",
       "      <td>0</td>\n",
       "    </tr>\n",
       "    <tr>\n",
       "      <th>6571</th>\n",
       "      <td>sac code: 998711</td>\n",
       "      <td>0</td>\n",
       "      <td>0</td>\n",
       "      <td>0</td>\n",
       "      <td>0</td>\n",
       "      <td>0</td>\n",
       "      <td>0</td>\n",
       "      <td>0</td>\n",
       "      <td>0</td>\n",
       "      <td>0</td>\n",
       "      <td>0</td>\n",
       "      <td>0</td>\n",
       "      <td>0</td>\n",
       "      <td>0</td>\n",
       "      <td>1</td>\n",
       "      <td>0</td>\n",
       "      <td>0</td>\n",
       "      <td>0</td>\n",
       "      <td>0</td>\n",
       "      <td>0</td>\n",
       "    </tr>\n",
       "    <tr>\n",
       "      <th>2880</th>\n",
       "      <td>27th mar</td>\n",
       "      <td>0</td>\n",
       "      <td>0</td>\n",
       "      <td>0</td>\n",
       "      <td>0</td>\n",
       "      <td>1</td>\n",
       "      <td>0</td>\n",
       "      <td>0</td>\n",
       "      <td>0</td>\n",
       "      <td>0</td>\n",
       "      <td>0</td>\n",
       "      <td>0</td>\n",
       "      <td>0</td>\n",
       "      <td>0</td>\n",
       "      <td>0</td>\n",
       "      <td>0</td>\n",
       "      <td>0</td>\n",
       "      <td>0</td>\n",
       "      <td>0</td>\n",
       "      <td>0</td>\n",
       "    </tr>\n",
       "    <tr>\n",
       "      <th>2413</th>\n",
       "      <td>94, tvh beliciaa towers, tower 2, 10th floor</td>\n",
       "      <td>1</td>\n",
       "      <td>0</td>\n",
       "      <td>0</td>\n",
       "      <td>0</td>\n",
       "      <td>0</td>\n",
       "      <td>0</td>\n",
       "      <td>0</td>\n",
       "      <td>0</td>\n",
       "      <td>0</td>\n",
       "      <td>0</td>\n",
       "      <td>0</td>\n",
       "      <td>0</td>\n",
       "      <td>0</td>\n",
       "      <td>0</td>\n",
       "      <td>0</td>\n",
       "      <td>0</td>\n",
       "      <td>0</td>\n",
       "      <td>0</td>\n",
       "      <td>0</td>\n",
       "    </tr>\n",
       "    <tr>\n",
       "      <th>4504</th>\n",
       "      <td>santhome inn</td>\n",
       "      <td>0</td>\n",
       "      <td>0</td>\n",
       "      <td>0</td>\n",
       "      <td>0</td>\n",
       "      <td>0</td>\n",
       "      <td>0</td>\n",
       "      <td>0</td>\n",
       "      <td>0</td>\n",
       "      <td>0</td>\n",
       "      <td>0</td>\n",
       "      <td>0</td>\n",
       "      <td>0</td>\n",
       "      <td>0</td>\n",
       "      <td>0</td>\n",
       "      <td>0</td>\n",
       "      <td>0</td>\n",
       "      <td>0</td>\n",
       "      <td>0</td>\n",
       "      <td>1</td>\n",
       "    </tr>\n",
       "  </tbody>\n",
       "</table>\n",
       "</div>"
      ],
      "text/plain": [
       "                                            Blocks  ...  label_vendor_name\n",
       "5864                                            77  ...                  0\n",
       "6571                              sac code: 998711  ...                  0\n",
       "2880                                      27th mar  ...                  0\n",
       "2413  94, tvh beliciaa towers, tower 2, 10th floor  ...                  0\n",
       "4504                                  santhome inn  ...                  1\n",
       "\n",
       "[5 rows x 20 columns]"
      ]
     },
     "execution_count": 10,
     "metadata": {
      "tags": []
     },
     "output_type": "execute_result"
    }
   ],
   "source": [
    "tempdf1=df\n",
    "traindf=pd.get_dummies(df,columns=['label'])\n",
    "traindf=traindf.drop(['Source'],axis=1)\n",
    "traindf['Blocks']=traindf['Blocks'].str.lower()\n",
    "traindf.sample(5)"
   ]
  },
  {
   "cell_type": "code",
   "execution_count": 0,
   "metadata": {
    "colab": {},
    "colab_type": "code",
    "id": "2l2V4yueyKWD"
   },
   "outputs": [],
   "source": [
    "x = traindf[[\"Blocks\"]]\n",
    "y= traindf[['label_address', 'label_amount', 'label_bill_period',\n",
    "       'label_cin', 'label_date', 'label_description', 'label_email',\n",
    "       'label_intents_OrgGST', 'label_intents_VendorGST', 'label_none',\n",
    "       'label_pan', 'label_ph_no', 'label_quantity', 'label_sac',\n",
    "       'label_tax_amount', 'label_tax_percent', 'label_tot_in_words',\n",
    "       'label_total_amount', 'label_vendor_name']]"
   ]
  },
  {
   "cell_type": "markdown",
   "metadata": {
    "colab_type": "text",
    "id": "XL6g-B3dyPEj"
   },
   "source": [
    "## Splitting the dataset into train and test pairs:-"
   ]
  },
  {
   "cell_type": "code",
   "execution_count": 0,
   "metadata": {
    "colab": {},
    "colab_type": "code",
    "id": "eU8oDvIMyLRA"
   },
   "outputs": [],
   "source": [
    "x_train, x_test, y_train, y_test = train_test_split(    \n",
    "    x, y, test_size=0.15, random_state=420)"
   ]
  },
  {
   "cell_type": "markdown",
   "metadata": {
    "colab_type": "text",
    "id": "2RV9_b3xxJs-"
   },
   "source": [
    "# Building the model and training the network:\n",
    "* If the epochs size is too less then underfitting occurs, if there are too many epochs then the model gets overfit to the training data.(Both of which should be avoided)\n",
    "* The ideal number of epochs based on our observation is around 10."
   ]
  },
  {
   "cell_type": "code",
   "execution_count": 13,
   "metadata": {
    "colab": {
     "base_uri": "https://localhost:8080/",
     "height": 507
    },
    "colab_type": "code",
    "id": "-AllD0_2y-kp",
    "outputId": "4deb6130-0578-438d-ce43-3258e3f5a814"
   },
   "outputs": [
    {
     "name": "stderr",
     "output_type": "stream",
     "text": [
      "WARNING: Logging before flag parsing goes to stderr.\n",
      "W0712 12:00:38.513448 139907226535808 deprecation_wrapper.py:119] From /usr/local/lib/python3.6/dist-packages/keras/backend/tensorflow_backend.py:74: The name tf.get_default_graph is deprecated. Please use tf.compat.v1.get_default_graph instead.\n",
      "\n",
      "W0712 12:00:38.516250 139907226535808 deprecation_wrapper.py:119] From /usr/local/lib/python3.6/dist-packages/keras/backend/tensorflow_backend.py:517: The name tf.placeholder is deprecated. Please use tf.compat.v1.placeholder instead.\n",
      "\n",
      "W0712 12:00:43.879433 139907226535808 deprecation_wrapper.py:119] From /usr/local/lib/python3.6/dist-packages/keras/backend/tensorflow_backend.py:4138: The name tf.random_uniform is deprecated. Please use tf.random.uniform instead.\n",
      "\n",
      "W0712 12:00:43.916185 139907226535808 deprecation_wrapper.py:119] From /usr/local/lib/python3.6/dist-packages/keras/optimizers.py:790: The name tf.train.Optimizer is deprecated. Please use tf.compat.v1.train.Optimizer instead.\n",
      "\n",
      "W0712 12:00:43.937203 139907226535808 deprecation_wrapper.py:119] From /usr/local/lib/python3.6/dist-packages/keras/backend/tensorflow_backend.py:3295: The name tf.log is deprecated. Please use tf.math.log instead.\n",
      "\n"
     ]
    },
    {
     "name": "stdout",
     "output_type": "stream",
     "text": [
      "_________________________________________________________________\n",
      "Layer (type)                 Output Shape              Param #   \n",
      "=================================================================\n",
      "input_1 (InputLayer)         (None, 1)                 0         \n",
      "_________________________________________________________________\n",
      "elmo_embedding_layer_1 (Elmo (None, 1024)              4         \n",
      "_________________________________________________________________\n",
      "dense_1 (Dense)              (None, 1024)              1049600   \n",
      "_________________________________________________________________\n",
      "dense_2 (Dense)              (None, 256)               262400    \n",
      "_________________________________________________________________\n",
      "dense_3 (Dense)              (None, 19)                4883      \n",
      "=================================================================\n",
      "Total params: 1,316,887\n",
      "Trainable params: 1,316,887\n",
      "Non-trainable params: 0\n",
      "_________________________________________________________________\n"
     ]
    }
   ],
   "source": [
    "model = build_model()"
   ]
  },
  {
   "cell_type": "code",
   "execution_count": 14,
   "metadata": {
    "colab": {
     "base_uri": "https://localhost:8080/",
     "height": 490
    },
    "colab_type": "code",
    "id": "MLoJTx_kzAzr",
    "outputId": "af23a2fa-ea77-49f1-8ff9-d6b799e36c86"
   },
   "outputs": [
    {
     "name": "stderr",
     "output_type": "stream",
     "text": [
      "W0712 12:00:44.061751 139907226535808 deprecation.py:323] From /usr/local/lib/python3.6/dist-packages/tensorflow/python/ops/math_grad.py:1250: add_dispatch_support.<locals>.wrapper (from tensorflow.python.ops.array_ops) is deprecated and will be removed in a future version.\n",
      "Instructions for updating:\n",
      "Use tf.where in 2.0, which has the same broadcast rule as np.where\n",
      "W0712 12:00:44.188352 139907226535808 deprecation_wrapper.py:119] From /usr/local/lib/python3.6/dist-packages/keras/backend/tensorflow_backend.py:986: The name tf.assign_add is deprecated. Please use tf.compat.v1.assign_add instead.\n",
      "\n"
     ]
    },
    {
     "name": "stdout",
     "output_type": "stream",
     "text": [
      "Train on 4182 samples, validate on 739 samples\n",
      "Epoch 1/10\n",
      "4182/4182 [==============================] - 17s 4ms/step - loss: 1.1245 - acc: 0.6492 - val_loss: 0.9366 - val_acc: 0.7091\n",
      "Epoch 2/10\n",
      "4182/4182 [==============================] - 9s 2ms/step - loss: 0.6692 - acc: 0.7850 - val_loss: 0.6704 - val_acc: 0.7700\n",
      "Epoch 3/10\n",
      "4182/4182 [==============================] - 9s 2ms/step - loss: 0.4875 - acc: 0.8290 - val_loss: 0.5753 - val_acc: 0.8038\n",
      "Epoch 4/10\n",
      "4182/4182 [==============================] - 9s 2ms/step - loss: 0.4167 - acc: 0.8582 - val_loss: 0.5695 - val_acc: 0.8227\n",
      "Epoch 5/10\n",
      "4182/4182 [==============================] - 9s 2ms/step - loss: 0.3646 - acc: 0.8737 - val_loss: 0.6012 - val_acc: 0.8214\n",
      "Epoch 6/10\n",
      "4182/4182 [==============================] - 9s 2ms/step - loss: 0.3315 - acc: 0.8821 - val_loss: 0.5504 - val_acc: 0.8281\n",
      "Epoch 7/10\n",
      "4182/4182 [==============================] - 9s 2ms/step - loss: 0.2789 - acc: 0.8979 - val_loss: 0.6339 - val_acc: 0.8200\n",
      "Epoch 8/10\n",
      "4182/4182 [==============================] - 9s 2ms/step - loss: 0.2580 - acc: 0.9041 - val_loss: 0.6111 - val_acc: 0.8051\n",
      "Epoch 9/10\n",
      "4182/4182 [==============================] - 9s 2ms/step - loss: 0.2643 - acc: 0.9024 - val_loss: 0.6713 - val_acc: 0.8133\n",
      "Epoch 10/10\n",
      "4182/4182 [==============================] - 9s 2ms/step - loss: 0.2157 - acc: 0.9173 - val_loss: 0.6703 - val_acc: 0.8200\n"
     ]
    },
    {
     "data": {
      "text/plain": [
       "<keras.callbacks.History at 0x7f3e03a614e0>"
      ]
     },
     "execution_count": 14,
     "metadata": {
      "tags": []
     },
     "output_type": "execute_result"
    }
   ],
   "source": [
    "# IMPORTANT : Change batch size to match how much memmory you have left on your GPU \n",
    "# I reccomend starting small and looking at how much of your GPU memmory is being used and scaling up from there\n",
    "# Change epochs based on size of dataset...Early stopping can be incorporated if you dont want to do that\n",
    "model.fit(x_train, \n",
    "          y_train,\n",
    "          validation_data=(x_test, y_test),\n",
    "          epochs=10,\n",
    "          batch_size=32)"
   ]
  },
  {
   "cell_type": "markdown",
   "metadata": {
    "colab_type": "text",
    "id": "zgr6pB6G0snk"
   },
   "source": [
    "## Saving all our hardwork:"
   ]
  },
  {
   "cell_type": "code",
   "execution_count": 0,
   "metadata": {
    "colab": {},
    "colab_type": "code",
    "id": "RtEHczR10sOm"
   },
   "outputs": [],
   "source": [
    "model.save('Enter_name_here.h5')"
   ]
  },
  {
   "cell_type": "markdown",
   "metadata": {
    "colab_type": "text",
    "id": "hlXwY7oE1Blv"
   },
   "source": [
    "# Testing how good our model is using a confusion matrix:"
   ]
  },
  {
   "cell_type": "markdown",
   "metadata": {
    "colab_type": "text",
    "id": "7TWfDpYM1_-8"
   },
   "source": [
    "* Predicting on the testing set"
   ]
  },
  {
   "cell_type": "code",
   "execution_count": 21,
   "metadata": {
    "colab": {
     "base_uri": "https://localhost:8080/",
     "height": 336
    },
    "colab_type": "code",
    "id": "WgfdmFKT1KdX",
    "outputId": "c5b9f9d1-4b46-4be1-bf74-5d88cb2374b6"
   },
   "outputs": [
    {
     "data": {
      "text/plain": [
       "{(6.6072396e-08, 'label_bill_period'),\n",
       " (8.828893e-08, 'label_tax_percent'),\n",
       " (8.6940815e-07, 'label_cin'),\n",
       " (1.2888082e-06, 'label_intents_VendorGST'),\n",
       " (1.3652493e-06, 'label_quantity'),\n",
       " (1.9599834e-06, 'label_tot_in_words'),\n",
       " (2.0501545e-06, 'label_date'),\n",
       " (7.692057e-06, 'label_intents_OrgGST'),\n",
       " (1.6625989e-05, 'label_tax_amount'),\n",
       " (1.7953509e-05, 'label_amount'),\n",
       " (2.7750455e-05, 'label_pan'),\n",
       " (4.1887874e-05, 'label_description'),\n",
       " (5.3103046e-05, 'label_email'),\n",
       " (6.792942e-05, 'label_total_amount'),\n",
       " (0.00025341372, 'label_sac'),\n",
       " (0.0004974118, 'label_vendor_name'),\n",
       " (0.0007789606, 'label_none'),\n",
       " (0.004589602, 'label_ph_no'),\n",
       " (0.99364, 'label_address')}"
      ]
     },
     "execution_count": 21,
     "metadata": {
      "tags": []
     },
     "output_type": "execute_result"
    }
   ],
   "source": [
    "a = model.predict(x_test)\n",
    "pred = np.argmax(a,axis=1)\n",
    "y_test2 = np.argmax(y_test.values.astype(np.float32),axis=1)\n",
    "strList = ['label_address', 'label_amount', 'label_bill_period',\n",
    "       'label_cin', 'label_date', 'label_description', 'label_email',\n",
    "        'label_intents_OrgGST', 'label_intents_VendorGST',\n",
    "       'label_none', 'label_pan', 'label_ph_no', 'label_quantity', 'label_sac',\n",
    "       'label_tax_amount', 'label_tax_percent', 'label_tot_in_words',\n",
    "       'label_total_amount', 'label_vendor_name']\n",
    "result=zip(a[0],strList)\n",
    "set(result)"
   ]
  },
  {
   "cell_type": "markdown",
   "metadata": {
    "colab_type": "text",
    "id": "aatODyq92IFa"
   },
   "source": [
    "* Plotting the confusion matrix"
   ]
  },
  {
   "cell_type": "code",
   "execution_count": 23,
   "metadata": {
    "colab": {
     "base_uri": "https://localhost:8080/",
     "height": 1000
    },
    "colab_type": "code",
    "id": "PI5jXeUn12df",
    "outputId": "eeae7f71-95e7-4932-b352-9e5a491e5488"
   },
   "outputs": [
    {
     "name": "stdout",
     "output_type": "stream",
     "text": [
      "Confusion matrix, without normalization\n",
      "[[ 76   2   0   0   0   3   1   0   0   9   2   0   0   0   0   0   0   0\n",
      "   10]\n",
      " [  0  45   0   0   0   0   0   0   0   0   0   0   0   0   0   0   0  16\n",
      "    0]\n",
      " [  0   0   3   0   0   0   0   0   0   0   0   0   0   0   0   0   0   0\n",
      "    0]\n",
      " [  0   0   0   4   0   0   0   0   0   0   0   1   0   0   0   0   0   0\n",
      "    0]\n",
      " [  0   1   0   0  70   0   0   0   0   1   0   1   0   0   0   0   0   0\n",
      "    0]\n",
      " [  0   0   0   0   0  28   0   0   0   9   0   0   0   0   0   0   0   0\n",
      "    2]\n",
      " [  0   0   0   0   0   0  11   0   0   1   0   0   0   0   0   0   0   0\n",
      "    0]\n",
      " [  0   0   0   0   0   0   0   7   5   0   1   0   0   0   0   0   0   0\n",
      "    0]\n",
      " [  0   0   0   1   0   0   0   0  62   0   0   0   0   0   0   0   0   0\n",
      "    0]\n",
      " [  3   2   0   0   0   9   0   0   1  87   0   3   0   1   0   0   0   0\n",
      "    3]\n",
      " [  1   0   0   0   0   0   0   0   0   2   7   0   0   0   0   0   0   0\n",
      "    0]\n",
      " [  0   0   0   0   0   0   0   0   0   1   0  24   0   0   0   0   0   0\n",
      "    0]\n",
      " [  0   1   0   0   0   0   0   0   0   1   0   0  15   0   0   0   0   0\n",
      "    0]\n",
      " [  0   0   0   0   0   0   0   0   0   0   0   2   0 105   0   0   0   0\n",
      "    0]\n",
      " [  0   5   0   0   0   0   0   0   0   0   0   0   0   0   1   0   0   2\n",
      "    0]\n",
      " [  0   0   0   0   0   0   0   0   0   4   1   0   0   0   0   4   0   0\n",
      "    0]\n",
      " [  0   0   0   0   0   0   0   0   0   1   0   0   0   0   0   0  13   1\n",
      "    0]\n",
      " [  0  11   0   0   0   0   0   0   0   0   0   0   0   0   0   0   0  15\n",
      "    0]\n",
      " [  2   0   0   0   0   0   0   0   0   8   2   0   0   0   0   0   0   0\n",
      "   29]]\n",
      "Normalized confusion matrix\n",
      "[[0.74 0.02 0.   0.   0.   0.03 0.01 0.   0.   0.09 0.02 0.   0.   0.\n",
      "  0.   0.   0.   0.   0.1 ]\n",
      " [0.   0.74 0.   0.   0.   0.   0.   0.   0.   0.   0.   0.   0.   0.\n",
      "  0.   0.   0.   0.26 0.  ]\n",
      " [0.   0.   1.   0.   0.   0.   0.   0.   0.   0.   0.   0.   0.   0.\n",
      "  0.   0.   0.   0.   0.  ]\n",
      " [0.   0.   0.   0.8  0.   0.   0.   0.   0.   0.   0.   0.2  0.   0.\n",
      "  0.   0.   0.   0.   0.  ]\n",
      " [0.   0.01 0.   0.   0.96 0.   0.   0.   0.   0.01 0.   0.01 0.   0.\n",
      "  0.   0.   0.   0.   0.  ]\n",
      " [0.   0.   0.   0.   0.   0.72 0.   0.   0.   0.23 0.   0.   0.   0.\n",
      "  0.   0.   0.   0.   0.05]\n",
      " [0.   0.   0.   0.   0.   0.   0.92 0.   0.   0.08 0.   0.   0.   0.\n",
      "  0.   0.   0.   0.   0.  ]\n",
      " [0.   0.   0.   0.   0.   0.   0.   0.54 0.38 0.   0.08 0.   0.   0.\n",
      "  0.   0.   0.   0.   0.  ]\n",
      " [0.   0.   0.   0.02 0.   0.   0.   0.   0.98 0.   0.   0.   0.   0.\n",
      "  0.   0.   0.   0.   0.  ]\n",
      " [0.03 0.02 0.   0.   0.   0.08 0.   0.   0.01 0.8  0.   0.03 0.   0.01\n",
      "  0.   0.   0.   0.   0.03]\n",
      " [0.1  0.   0.   0.   0.   0.   0.   0.   0.   0.2  0.7  0.   0.   0.\n",
      "  0.   0.   0.   0.   0.  ]\n",
      " [0.   0.   0.   0.   0.   0.   0.   0.   0.   0.04 0.   0.96 0.   0.\n",
      "  0.   0.   0.   0.   0.  ]\n",
      " [0.   0.06 0.   0.   0.   0.   0.   0.   0.   0.06 0.   0.   0.88 0.\n",
      "  0.   0.   0.   0.   0.  ]\n",
      " [0.   0.   0.   0.   0.   0.   0.   0.   0.   0.   0.   0.02 0.   0.98\n",
      "  0.   0.   0.   0.   0.  ]\n",
      " [0.   0.62 0.   0.   0.   0.   0.   0.   0.   0.   0.   0.   0.   0.\n",
      "  0.12 0.   0.   0.25 0.  ]\n",
      " [0.   0.   0.   0.   0.   0.   0.   0.   0.   0.44 0.11 0.   0.   0.\n",
      "  0.   0.44 0.   0.   0.  ]\n",
      " [0.   0.   0.   0.   0.   0.   0.   0.   0.   0.07 0.   0.   0.   0.\n",
      "  0.   0.   0.87 0.07 0.  ]\n",
      " [0.   0.42 0.   0.   0.   0.   0.   0.   0.   0.   0.   0.   0.   0.\n",
      "  0.   0.   0.   0.58 0.  ]\n",
      " [0.05 0.   0.   0.   0.   0.   0.   0.   0.   0.2  0.05 0.   0.   0.\n",
      "  0.   0.   0.   0.   0.71]]\n"
     ]
    },
    {
     "data": {
      "image/png": "[encoded data removed]",
      "text/plain": [
       "<Figure size 432x288 with 2 Axes>"
      ]
     },
     "metadata": {
      "tags": []
     },
     "output_type": "display_data"
    },
    {
     "data": {
      "image/png": "[encoded data removed]",
      "text/plain": [
       "<Figure size 432x288 with 2 Axes>"
      ]
     },
     "metadata": {
      "tags": []
     },
     "output_type": "display_data"
    }
   ],
   "source": [
    "import numpy as np\n",
    "import matplotlib.pyplot as plt\n",
    "from sklearn import svm, datasets\n",
    "from sklearn.metrics import confusion_matrix\n",
    "from sklearn import preprocessing\n",
    "%matplotlib inline\n",
    "def plot_confusion_matrix(cm, names, title='Confusion matrix', cmap=plt.cm.Blues):\n",
    "    plt.imshow(cm, interpolation='nearest', cmap=cmap)\n",
    "    plt.title(title)\n",
    "    plt.colorbar()\n",
    "    tick_marks = np.arange(len(names))\n",
    "    plt.xticks(tick_marks, names, rotation=45)\n",
    "    plt.yticks(tick_marks, names)\n",
    "    plt.tight_layout()\n",
    "    plt.ylabel('True label')\n",
    "    plt.xlabel('Predicted label')\n",
    "def encode_text_index(df, name):\n",
    "    le = preprocessing.LabelEncoder()\n",
    "    df[name] = le.fit_transform(df[name])\n",
    "    return le.classes_\n",
    "cm = confusion_matrix(y_test2, pred)\n",
    "np.set_printoptions(precision=2)\n",
    "print('Confusion matrix, without normalization')\n",
    "print(cm)\n",
    "plt.figure()\n",
    "intent = encode_text_index(df,'label')\n",
    "plot_confusion_matrix(cm, intent)\n",
    "\n",
    "# Normalize the confusion matrix by row (i.e by the number of samples\n",
    "# in each class)\n",
    "cm_normalized = cm.astype('float') / cm.sum(axis=1)[:, np.newaxis]\n",
    "print('Normalized confusion matrix')\n",
    "print(cm_normalized)\n",
    "plt.figure()\n",
    "plot_confusion_matrix(cm_normalized, intent, title='Normalized confusion matrix')\n",
    "\n",
    "plt.show()"
   ]
  },
  {
   "cell_type": "markdown",
   "metadata": {
    "colab_type": "text",
    "id": "C5t1upYA2WRF"
   },
   "source": [
    "## Manual Testing:"
   ]
  },
  {
   "cell_type": "code",
   "execution_count": 25,
   "metadata": {
    "colab": {
     "base_uri": "https://localhost:8080/",
     "height": 353
    },
    "colab_type": "code",
    "id": "I64a4Y6N2aZZ",
    "outputId": "22e5591f-9a9f-46a9-c1fd-d9c7a79e51f9"
   },
   "outputs": [
    {
     "name": "stdout",
     "output_type": "stream",
     "text": [
      "agrya pvt ltd\n"
     ]
    },
    {
     "data": {
      "text/plain": [
       "{(1.7805351e-12, 'label_bill_period'),\n",
       " (3.1744921e-12, 'label_cin'),\n",
       " (3.2809404e-11, 'label_tax_amount'),\n",
       " (6.602296e-11, 'label_intents_OrgGST'),\n",
       " (8.206775e-11, 'label_quantity'),\n",
       " (2.1372026e-10, 'label_tax_percent'),\n",
       " (2.3888055e-10, 'label_amount'),\n",
       " (3.0754066e-10, 'label_date'),\n",
       " (5.697087e-10, 'label_total_amount'),\n",
       " (1.1155378e-09, 'label_sac'),\n",
       " (1.1956292e-09, 'label_tot_in_words'),\n",
       " (2.839317e-09, 'label_email'),\n",
       " (3.2855714e-09, 'label_ph_no'),\n",
       " (6.358304e-09, 'label_intents_VendorGST'),\n",
       " (1.8100543e-07, 'label_pan'),\n",
       " (3.4782167e-07, 'label_description'),\n",
       " (2.2863812e-06, 'label_address'),\n",
       " (3.2955857e-05, 'label_none'),\n",
       " (0.99996424, 'label_vendor_name')}"
      ]
     },
     "execution_count": 25,
     "metadata": {
      "tags": []
     },
     "output_type": "execute_result"
    }
   ],
   "source": [
    "import string \n",
    "b = input()\n",
    "b= b.lower()\n",
    "a=np.array([b])\n",
    "res = model.predict(a)\n",
    "strList = ['label_address', 'label_amount', 'label_bill_period',\n",
    "       'label_cin', 'label_date', 'label_description', 'label_email',\n",
    "        'label_intents_OrgGST', 'label_intents_VendorGST',\n",
    "       'label_none', 'label_pan', 'label_ph_no', 'label_quantity', 'label_sac',\n",
    "       'label_tax_amount', 'label_tax_percent', 'label_tot_in_words',\n",
    "       'label_total_amount', 'label_vendor_name']\n",
    "result = zip(res[0]\n",
    "             , strList)\n",
    "set(result)"
   ]
  },
  {
   "cell_type": "code",
   "execution_count": null,
   "metadata": {
    "colab": {},
    "colab_type": "code",
    "id": "N4v8i8u4Em1U"
   },
   "outputs": [],
   "source": []
  },
  {
   "cell_type": "code",
   "execution_count": null,
   "metadata": {},
   "outputs": [],
   "source": []
  }
 ],
 "metadata": {
  "accelerator": "GPU",
  "colab": {
   "collapsed_sections": [],
   "name": "Training_the_model.ipynb",
   "provenance": [],
   "toc_visible": true,
   "version": "0.3.2"
  },
  "kernelspec": {
   "display_name": "Python 3",
   "language": "python",
   "name": "python3"
  },
  "language_info": {
   "codemirror_mode": {
    "name": "ipython",
    "version": 3
   },
   "file_extension": ".py",
   "mimetype": "text/x-python",
   "name": "python",
   "nbconvert_exporter": "python",
   "pygments_lexer": "ipython3",
   "version": "3.7.7"
  }
 },
 "nbformat": 4,
 "nbformat_minor": 1
}
