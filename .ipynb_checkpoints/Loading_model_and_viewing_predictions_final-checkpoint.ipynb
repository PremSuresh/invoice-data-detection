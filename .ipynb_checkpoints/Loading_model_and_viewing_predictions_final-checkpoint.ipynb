{
 "cells": [
  {
   "cell_type": "markdown",
   "metadata": {
    "colab_type": "text",
    "id": "OK_3eeGC5GBC"
   },
   "source": [
    "## Imports\n",
    "*   Importing dependencies\n",
    "\n",
    "*   Making sure TensorFlow doesn't hog all of GPU\n",
    "\n",
    "\n"
   ]
  },
  {
   "cell_type": "code",
   "execution_count": 0,
   "metadata": {
    "colab": {},
    "colab_type": "code",
    "id": "08vBcyih5FMt"
   },
   "outputs": [],
   "source": [
    "import pandas as pd\n",
    "import numpy as np\n",
    "import tensorflow as tf\n",
    "import tensorflow_hub as hub\n",
    "from keras import backend as K\n",
    "from keras.engine import Layer\n",
    "from keras.models import load_model\n",
    "\n",
    "config = tf.ConfigProto()\n",
    "config.gpu_options.allow_growth = True\n",
    "sess = tf.Session(config=config)\n",
    "K.set_session(sess)"
   ]
  },
  {
   "cell_type": "markdown",
   "metadata": {
    "colab_type": "text",
    "id": "ZAMCrnoA3tTt"
   },
   "source": [
    "## Defining the Elmo Embedding Layer to reload it in the saved model"
   ]
  },
  {
   "cell_type": "code",
   "execution_count": 0,
   "metadata": {
    "colab": {},
    "colab_type": "code",
    "id": "5GI4EBBk38Zg"
   },
   "outputs": [],
   "source": [
    "class ElmoEmbeddingLayer(Layer):\n",
    "    def __init__(self, **kwargs):\n",
    "        self.dimensions = 1024\n",
    "        self.trainable=True\n",
    "        super(ElmoEmbeddingLayer, self).__init__(**kwargs)\n",
    "\n",
    "    def build(self, input_shape):\n",
    "        self.elmo = hub.Module('https://tfhub.dev/google/elmo/2', trainable=self.trainable,\n",
    "                               name=\"{}_module\".format(self.name))\n",
    "\n",
    "        self.trainable_weights += K.tf.trainable_variables(scope=\"^{}_module/.*\".format(self.name))\n",
    "        super(ElmoEmbeddingLayer, self).build(input_shape)\n",
    "\n",
    "    def call(self, x, mask=None):\n",
    "        result = self.elmo(K.squeeze(K.cast(x, tf.string), axis=1),\n",
    "                      as_dict=True,\n",
    "                      signature='default',\n",
    "                      )['default']\n",
    "        return result\n",
    "\n",
    "    def compute_mask(self, inputs, mask=None):\n",
    "        return K.not_equal(inputs, '--PAD--')\n",
    "\n",
    "    def compute_output_shape(self, input_shape):\n",
    "        return (input_shape[0], self.dimensions)\n"
   ]
  },
  {
   "cell_type": "markdown",
   "metadata": {
    "colab_type": "text",
    "id": "0WZuixZ34Iva"
   },
   "source": [
    "## Loading the trained saved model"
   ]
  },
  {
   "cell_type": "code",
   "execution_count": 4,
   "metadata": {
    "colab": {
     "base_uri": "https://localhost:8080/",
     "height": 255
    },
    "colab_type": "code",
    "id": "0LhR_fxo2L5K",
    "outputId": "1ca4a466-480a-4361-f2a1-e0dd3b253202"
   },
   "outputs": [
    {
     "name": "stderr",
     "output_type": "stream",
     "text": [
      "W0712 12:18:09.679744 139887749801856 deprecation_wrapper.py:119] From /usr/local/lib/python3.6/dist-packages/keras/backend/tensorflow_backend.py:517: The name tf.placeholder is deprecated. Please use tf.compat.v1.placeholder instead.\n",
      "\n",
      "W0712 12:18:12.524860 139887749801856 deprecation_wrapper.py:119] From /usr/local/lib/python3.6/dist-packages/keras/backend/tensorflow_backend.py:4138: The name tf.random_uniform is deprecated. Please use tf.random.uniform instead.\n",
      "\n",
      "W0712 12:18:12.639963 139887749801856 deprecation_wrapper.py:119] From /usr/local/lib/python3.6/dist-packages/keras/backend/tensorflow_backend.py:174: The name tf.get_default_session is deprecated. Please use tf.compat.v1.get_default_session instead.\n",
      "\n",
      "W0712 12:18:12.647618 139887749801856 deprecation_wrapper.py:119] From /usr/local/lib/python3.6/dist-packages/keras/backend/tensorflow_backend.py:190: The name tf.global_variables is deprecated. Please use tf.compat.v1.global_variables instead.\n",
      "\n",
      "W0712 12:18:14.663913 139887749801856 deprecation_wrapper.py:119] From /usr/local/lib/python3.6/dist-packages/keras/optimizers.py:790: The name tf.train.Optimizer is deprecated. Please use tf.compat.v1.train.Optimizer instead.\n",
      "\n",
      "W0712 12:18:15.007372 139887749801856 deprecation.py:323] From /usr/local/lib/python3.6/dist-packages/tensorflow/python/ops/math_grad.py:1250: add_dispatch_support.<locals>.wrapper (from tensorflow.python.ops.array_ops) is deprecated and will be removed in a future version.\n",
      "Instructions for updating:\n",
      "Use tf.where in 2.0, which has the same broadcast rule as np.where\n"
     ]
    }
   ],
   "source": [
    "model=load_model(\"halfnonehalfsac.h5\", custom_objects={'ElmoEmbeddingLayer': ElmoEmbeddingLayer()})"
   ]
  },
  {
   "cell_type": "markdown",
   "metadata": {
    "colab_type": "text",
    "id": "746NtCTL5jzU"
   },
   "source": [
    "## Base imports and setting google credentials for performing OCR"
   ]
  },
  {
   "cell_type": "code",
   "execution_count": 0,
   "metadata": {
    "colab": {},
    "colab_type": "code",
    "id": "BzI5dMSu5kao"
   },
   "outputs": [],
   "source": [
    "import argparse\n",
    "import io\n",
    "import re\n",
    "import os\n",
    "from os import listdir\n",
    "from os.path import isfile, join\n",
    "import google.cloud\n",
    "import uploadfiletovision as sendtovision\n",
    "\n",
    "os.environ[\"GOOGLE_APPLICATION_CREDENTIALS\"]=\"vision_key.json\""
   ]
  },
  {
   "cell_type": "markdown",
   "metadata": {
    "colab_type": "text",
    "id": "yWvFquXz6Q7P"
   },
   "source": [
    "## Entering the file name as 'filename.pdf' thereby uploading to Google Cloud Bucket Storage to perform OCR \n",
    "\n",
    "Replace string in mypath with the path of the pdf"
   ]
  },
  {
   "cell_type": "code",
   "execution_count": 11,
   "metadata": {
    "colab": {
     "base_uri": "https://localhost:8080/",
     "height": 50
    },
    "colab_type": "code",
    "id": "XDMhXreQ6RRD",
    "outputId": "47fc8976-cfc6-4308-c8c3-9121500fc426"
   },
   "outputs": [
    {
     "name": "stdout",
     "output_type": "stream",
     "text": [
      "Enter the File Name in format 'filename.pdf'\n",
      "uploads_220114508.pdf\n"
     ]
    }
   ],
   "source": [
    "mypath=r' '\n",
    "mypath=mypath[0:-1]\n",
    "file_name='uploads/'\n",
    "print(\"Enter the File Name in format 'filename.pdf'\")\n",
    "name=input()\n",
    "file_path=mypath+name\n",
    "file_name=file_name+name"
   ]
  },
  {
   "cell_type": "markdown",
   "metadata": {
    "colab_type": "text",
    "id": "pgo4-hls7XN0"
   },
   "source": [
    "**Uploading the pdf to project's storage bucker**"
   ]
  },
  {
   "cell_type": "code",
   "execution_count": 12,
   "metadata": {
    "colab": {
     "base_uri": "https://localhost:8080/",
     "height": 34
    },
    "colab_type": "code",
    "id": "-hA-6Vjj7Xu4",
    "outputId": "88cb967c-ce4c-4717-f155-c2af0e207470"
   },
   "outputs": [
    {
     "name": "stdout",
     "output_type": "stream",
     "text": [
      "File uploads_220114508.pdf uploaded to uploads/uploads_220114508.pdf.\n"
     ]
    }
   ],
   "source": [
    "sendtovision.upload_blob('actionboard-219211-vcm',file_path,file_name)"
   ]
  },
  {
   "cell_type": "markdown",
   "metadata": {
    "colab_type": "text",
    "id": "Z9ngczLB7wOl"
   },
   "source": [
    "## Performing OCR\n",
    "* API request sent to Google Cloud Vision OCR which returns a json string\n",
    "\n",
    "* API used:\n",
    "https://cloud.google.com/vision/docs/pdf"
   ]
  },
  {
   "cell_type": "code",
   "execution_count": 14,
   "metadata": {
    "colab": {
     "base_uri": "https://localhost:8080/",
     "height": 491
    },
    "colab_type": "code",
    "id": "1uOqPpgLI4Px",
    "outputId": "15fb26f0-7a0d-413f-d967-7a2f2734aa83"
   },
   "outputs": [
    {
     "name": "stdout",
     "output_type": "stream",
     "text": [
      "Collecting google-cloud-vision\n",
      "\u001b[?25l  Downloading https://files.pythonhosted.org/packages/82/07/c6eb18a9bfaf5383424f17d1b3ca0fcc0cd12fd9676460b179d3c4821da6/google_cloud_vision-0.38.0-py2.py3-none-any.whl (413kB)\n",
      "\u001b[K     |████████████████████████████████| 419kB 5.0MB/s \n",
      "\u001b[?25hRequirement already satisfied: google-api-core[grpc]<2.0.0dev,>=1.6.0 in /usr/local/lib/python3.6/dist-packages (from google-cloud-vision) (1.13.0)\n",
      "Requirement already satisfied: google-auth<2.0dev,>=0.4.0 in /usr/local/lib/python3.6/dist-packages (from google-api-core[grpc]<2.0.0dev,>=1.6.0->google-cloud-vision) (1.4.2)\n",
      "Requirement already satisfied: protobuf>=3.4.0 in /usr/local/lib/python3.6/dist-packages (from google-api-core[grpc]<2.0.0dev,>=1.6.0->google-cloud-vision) (3.7.1)\n",
      "Requirement already satisfied: six>=1.10.0 in /usr/local/lib/python3.6/dist-packages (from google-api-core[grpc]<2.0.0dev,>=1.6.0->google-cloud-vision) (1.12.0)\n",
      "Requirement already satisfied: setuptools>=34.0.0 in /usr/local/lib/python3.6/dist-packages (from google-api-core[grpc]<2.0.0dev,>=1.6.0->google-cloud-vision) (41.0.1)\n",
      "Requirement already satisfied: requests<3.0.0dev,>=2.18.0 in /usr/local/lib/python3.6/dist-packages (from google-api-core[grpc]<2.0.0dev,>=1.6.0->google-cloud-vision) (2.21.0)\n",
      "Requirement already satisfied: pytz in /usr/local/lib/python3.6/dist-packages (from google-api-core[grpc]<2.0.0dev,>=1.6.0->google-cloud-vision) (2018.9)\n",
      "Requirement already satisfied: googleapis-common-protos!=1.5.4,<2.0dev,>=1.5.3 in /usr/local/lib/python3.6/dist-packages (from google-api-core[grpc]<2.0.0dev,>=1.6.0->google-cloud-vision) (1.6.0)\n",
      "Requirement already satisfied: grpcio<2.0dev,>=1.8.2; extra == \"grpc\" in /usr/local/lib/python3.6/dist-packages (from google-api-core[grpc]<2.0.0dev,>=1.6.0->google-cloud-vision) (1.15.0)\n",
      "Requirement already satisfied: rsa>=3.1.4 in /usr/local/lib/python3.6/dist-packages (from google-auth<2.0dev,>=0.4.0->google-api-core[grpc]<2.0.0dev,>=1.6.0->google-cloud-vision) (4.0)\n",
      "Requirement already satisfied: pyasn1-modules>=0.2.1 in /usr/local/lib/python3.6/dist-packages (from google-auth<2.0dev,>=0.4.0->google-api-core[grpc]<2.0.0dev,>=1.6.0->google-cloud-vision) (0.2.5)\n",
      "Requirement already satisfied: cachetools>=2.0.0 in /usr/local/lib/python3.6/dist-packages (from google-auth<2.0dev,>=0.4.0->google-api-core[grpc]<2.0.0dev,>=1.6.0->google-cloud-vision) (3.1.1)\n",
      "Requirement already satisfied: idna<2.9,>=2.5 in /usr/local/lib/python3.6/dist-packages (from requests<3.0.0dev,>=2.18.0->google-api-core[grpc]<2.0.0dev,>=1.6.0->google-cloud-vision) (2.8)\n",
      "Requirement already satisfied: chardet<3.1.0,>=3.0.2 in /usr/local/lib/python3.6/dist-packages (from requests<3.0.0dev,>=2.18.0->google-api-core[grpc]<2.0.0dev,>=1.6.0->google-cloud-vision) (3.0.4)\n",
      "Requirement already satisfied: certifi>=2017.4.17 in /usr/local/lib/python3.6/dist-packages (from requests<3.0.0dev,>=2.18.0->google-api-core[grpc]<2.0.0dev,>=1.6.0->google-cloud-vision) (2019.6.16)\n",
      "Requirement already satisfied: urllib3<1.25,>=1.21.1 in /usr/local/lib/python3.6/dist-packages (from requests<3.0.0dev,>=2.18.0->google-api-core[grpc]<2.0.0dev,>=1.6.0->google-cloud-vision) (1.24.3)\n",
      "Requirement already satisfied: pyasn1>=0.1.3 in /usr/local/lib/python3.6/dist-packages (from rsa>=3.1.4->google-auth<2.0dev,>=0.4.0->google-api-core[grpc]<2.0.0dev,>=1.6.0->google-cloud-vision) (0.4.5)\n",
      "Installing collected packages: google-cloud-vision\n",
      "Successfully installed google-cloud-vision-0.38.0\n"
     ]
    },
    {
     "data": {
      "application/vnd.colab-display-data+json": {
       "pip_warning": {
        "packages": [
         "google"
        ]
       }
      }
     },
     "metadata": {
      "tags": []
     },
     "output_type": "display_data"
    }
   ],
   "source": [
    "!pip install google-cloud-vision"
   ]
  },
  {
   "cell_type": "code",
   "execution_count": 15,
   "metadata": {
    "colab": {
     "base_uri": "https://localhost:8080/",
     "height": 1000
    },
    "colab_type": "code",
    "id": "cOuk76lK7w8p",
    "outputId": "2189ae3f-9047-440b-c57c-3f418df0944e"
   },
   "outputs": [
    {
     "name": "stdout",
     "output_type": "stream",
     "text": [
      "Waiting for the operation to finish.\n",
      "Output files:\n",
      "dest/\n",
      "dest/output-1-to-2.json\n",
      "Full text:\n",
      "Tax Invoice\n",
      "MA'ALAKSHMI PAPER WORKS\n",
      "31/868B. PONNURUNNI\n",
      "VYTTILA\n",
      "GSTIN/UIN: 32AXQPM8931K1ZW\n",
      "State Name : Kerala, Code : 32\n",
      "Invoice No.\n",
      "1402\n",
      "Challan No\n",
      "DN-132\n",
      "Supplier's Ref.\n",
      "Dated\n",
      "13-Feb-2019\n",
      "Mode/Terms of Payment\n",
      "Other Reference\n",
      "Order No.\n",
      "Dated\n",
      "Despatch Doc No\n",
      "Consignee\n",
      "MATRIMONY.COM LTD.\n",
      "3RD. FLOOR, JOS ANEX BUILDING.\n",
      "JOS JUNCTION\n",
      "KOCHI\n",
      "Kerala, Code : 32\n",
      "GSTIN/UIN 32AADCM0845M1ZI\n",
      "State Name : Kerala, Code : 32\n",
      "Dated\n",
      "13-Feb-2019\n",
      "Destination\n",
      "Despatch Through\n",
      "Terms of Delivery\n",
      "Description of Goods\n",
      "HSN/SAC\n",
      "Quantity\n",
      "Rate\n",
      "per\n",
      "Amount\n",
      "No.\n",
      "9989\n",
      "5 Nos\n",
      "1,722.96 Nos\n",
      "8,614.80\n",
      "9989\n",
      "10 Nos\n",
      "1,722.96 Nos\n",
      "|\n",
      "17,229.60\n",
      "PRINTED PHOTO BOOK\n",
      "Printing &Reproduction\n",
      "ODR-1477(A)\n",
      "SHEET-95\n",
      "5 ALBUMS\n",
      "2 PRINTED PHOTO BOOK\n",
      "Printing & Reproduction\n",
      "ODR-1477(B)\n",
      "SHEET-190\n",
      "10 ALBUMS\n",
      "3 PRINTED PHOTO BOOK\n",
      "Printing&Reproduction\n",
      "ODR-1940(A)\n",
      "SHEET-95\n",
      "5 ALBUMS\n",
      "9989\n",
      "5 Nos\n",
      "1,722.96 Nos\n",
      "8,614.80\n",
      "continued...\n",
      "This is a Computer Generated Invoice\n",
      "\n"
     ]
    }
   ],
   "source": [
    "import detect as det\n",
    "path='gs://actionboard-219211-vcm/uploads/'+name\n",
    "json_string=det.async_detect_document(path, r'gs://actionboard-219211-vcm/dest/')"
   ]
  },
  {
   "cell_type": "markdown",
   "metadata": {
    "colab_type": "text",
    "id": "xzsDYIge9Dz1"
   },
   "source": [
    "## Extracting Text Blocks from the received JSON file:"
   ]
  },
  {
   "cell_type": "code",
   "execution_count": 0,
   "metadata": {
    "colab": {},
    "colab_type": "code",
    "id": "i2SgXxqt9ELJ"
   },
   "outputs": [],
   "source": [
    "from google.cloud import vision\n",
    "from google.cloud import storage\n",
    "from google.protobuf import json_format\n",
    "final=[]\n",
    "source=[]\n",
    "\n",
    "response = json_format.Parse(\n",
    "        json_string, vision.types.AnnotateFileResponse())\n",
    "\n",
    "    # The actual response for the first page of the input file.\n",
    "x=[]\n",
    "for j in range(0,len(response.responses)):\n",
    "    first_page_response = response.responses[j]\n",
    "    annotation = first_page_response.full_text_annotation\n",
    "    y=annotation.text.split(\"\\n\")\n",
    "    x.append(y)\n",
    "for invoice in x:\n",
    "    while '' in invoice:\n",
    "        invoice.remove('')\n",
    "for k in x:\n",
    "    for l in k:\n",
    "        final.append(l)\n",
    "        source.append(name)"
   ]
  },
  {
   "cell_type": "markdown",
   "metadata": {
    "colab_type": "text",
    "id": "_j0Ib7-S9SQ7"
   },
   "source": [
    "## Prediction and Preliminary Post-Processing\n",
    "* Parsing the block data to extract GST numbers and eliminating possible OCR errors in GST"
   ]
  },
  {
   "cell_type": "code",
   "execution_count": 17,
   "metadata": {
    "colab": {
     "base_uri": "https://localhost:8080/",
     "height": 1000
    },
    "colab_type": "code",
    "id": "XbS6qtKm9Sxa",
    "outputId": "06e3e801-5c61-46be-94fd-c4bdd643b7c1"
   },
   "outputs": [
    {
     "name": "stdout",
     "output_type": "stream",
     "text": [
      "not cin\n",
      "['tax invoice']\n",
      "label_none\n",
      "not cin\n",
      "[\"ma'alakshmi paper works\"]\n",
      "label_vendor_name\n",
      "not cin\n",
      "['31/868b. ponnurunni']\n",
      "label_address\n",
      "not cin\n",
      "['vyttila']\n",
      "label_address\n",
      "not cin\n",
      "['32axqpm8931k1zw']\n",
      "label_intents_VendorGST\n",
      "not cin\n",
      "['state name  :  kerala, code  :  32']\n",
      "label_none\n",
      "not cin\n",
      "['invoice no.']\n",
      "label_none\n",
      "not cin\n",
      "['1402']\n",
      "label_total_amount\n",
      "not cin\n",
      "['challan no']\n",
      "label_none\n",
      "not cin\n",
      "['dn-132']\n",
      "label_date\n",
      "not cin\n",
      "[\"supplier's ref.\"]\n",
      "label_none\n",
      "not cin\n",
      "['dated']\n",
      "label_none\n",
      "not cin\n",
      "['13-feb-2019']\n",
      "label_date\n",
      "not cin\n",
      "['mode/terms of payment']\n",
      "label_none\n",
      "not cin\n",
      "['other reference']\n",
      "label_none\n",
      "not cin\n",
      "['order no.']\n",
      "label_none\n",
      "not cin\n",
      "['dated']\n",
      "label_none\n",
      "not cin\n",
      "['despatch doc no']\n",
      "label_none\n",
      "not cin\n",
      "['consignee']\n",
      "label_none\n",
      "not cin\n",
      "['matrimony.com ltd.']\n",
      "label_vendor_name\n",
      "not cin\n",
      "['3rd. floor, jos anex building.']\n",
      "label_address\n",
      "not cin\n",
      "['jos junction']\n",
      "label_none\n",
      "not cin\n",
      "['kochi']\n",
      "label_address\n",
      "not cin\n",
      "['kerala, code  :  32']\n",
      "label_none\n",
      "not cin\n",
      "['32aadcm0845m1zi']\n",
      "label_intents_OrgGST\n",
      "not cin\n",
      "['state name  :  kerala, code  :  32']\n",
      "label_none\n",
      "not cin\n",
      "['dated']\n",
      "label_none\n",
      "not cin\n",
      "['13-feb-2019']\n",
      "label_date\n",
      "not cin\n",
      "['destination']\n",
      "label_none\n",
      "not cin\n",
      "['despatch through']\n",
      "label_none\n",
      "not cin\n",
      "['terms of delivery']\n",
      "label_none\n",
      "not cin\n",
      "['description of goods']\n",
      "label_none\n",
      "not cin\n",
      "['hsn/sac']\n",
      "label_none\n",
      "not cin\n",
      "['quantity']\n",
      "label_none\n",
      "not cin\n",
      "['rate']\n",
      "label_none\n",
      "not cin\n",
      "['per']\n",
      "label_none\n",
      "not cin\n",
      "['amount']\n",
      "label_none\n",
      "not cin\n",
      "['no.']\n",
      "label_none\n",
      "not cin\n",
      "['9989']\n",
      "label_sac\n",
      "not cin\n",
      "['5 nos']\n",
      "label_quantity\n",
      "not cin\n",
      "['1,722.96 nos']\n",
      "label_amount\n",
      "not cin\n",
      "['8,614.80']\n",
      "label_tax_amount\n",
      "not cin\n",
      "['9989']\n",
      "label_sac\n",
      "not cin\n",
      "['10 nos']\n",
      "label_quantity\n",
      "not cin\n",
      "['1,722.96 nos']\n",
      "label_amount\n",
      "not cin\n",
      "['|']\n",
      "label_none\n",
      "not cin\n",
      "['17,229.60']\n",
      "label_tax_amount\n",
      "not cin\n",
      "['printed photo book']\n",
      "label_description\n",
      "not cin\n",
      "['printing &reproduction']\n",
      "label_description\n",
      "not cin\n",
      "['odr-1477(a)']\n",
      "label_none\n",
      "not cin\n",
      "['sheet-95']\n",
      "label_none\n",
      "not cin\n",
      "['5 albums']\n",
      "label_quantity\n",
      "not cin\n",
      "['2 printed photo book']\n",
      "label_description\n",
      "not cin\n",
      "['printing & reproduction']\n",
      "label_description\n",
      "not cin\n",
      "['odr-1477(b)']\n",
      "label_date\n",
      "not cin\n",
      "['sheet-190']\n",
      "label_none\n",
      "not cin\n",
      "['10 albums']\n",
      "label_quantity\n",
      "not cin\n",
      "['3 printed photo book']\n",
      "label_description\n",
      "not cin\n",
      "['printing&reproduction']\n",
      "label_description\n",
      "not cin\n",
      "['odr-1940(a)']\n",
      "label_none\n",
      "not cin\n",
      "['sheet-95']\n",
      "label_none\n",
      "not cin\n",
      "['5 albums']\n",
      "label_quantity\n",
      "not cin\n",
      "['9989']\n",
      "label_sac\n",
      "not cin\n",
      "['5 nos']\n",
      "label_quantity\n",
      "not cin\n",
      "['1,722.96 nos']\n",
      "label_amount\n",
      "not cin\n",
      "['8,614.80']\n",
      "label_tax_amount\n",
      "not cin\n",
      "['continued...']\n",
      "label_none\n",
      "not cin\n",
      "['this is a computer generated invoice']\n",
      "label_none\n",
      "not cin\n",
      "['tax invoice(page 2)']\n",
      "label_none\n",
      "not cin\n",
      "['lakshmi paper works']\n",
      "label_vendor_name\n",
      "not cin\n",
      "['31/868b, ponnurunni']\n",
      "label_none\n",
      "not cin\n",
      "['vyttila']\n",
      "label_address\n",
      "not cin\n",
      "['32axqpm8931k1zw']\n",
      "label_intents_VendorGST\n",
      "not cin\n",
      "['state name  :  kerala, code  :  32']\n",
      "label_none\n",
      "not cin\n",
      "['invoice no.']\n",
      "label_none\n",
      "not cin\n",
      "['1402']\n",
      "label_total_amount\n",
      "not cin\n",
      "['challan no']\n",
      "label_none\n",
      "not cin\n",
      "['dn-132']\n",
      "label_date\n",
      "not cin\n",
      "[\"supplier's ref.\"]\n",
      "label_none\n",
      "not cin\n",
      "['dated']\n",
      "label_none\n",
      "not cin\n",
      "['13-feb-2019']\n",
      "label_date\n",
      "not cin\n",
      "['mode/terms of payment']\n",
      "label_none\n",
      "not cin\n",
      "['other reference']\n",
      "label_none\n",
      "not cin\n",
      "['order no.']\n",
      "label_none\n",
      "not cin\n",
      "['dated']\n",
      "label_none\n",
      "not cin\n",
      "['despatch doc no']\n",
      "label_none\n",
      "not cin\n",
      "['consignee']\n",
      "label_none\n",
      "not cin\n",
      "['matrimony.com ltd.']\n",
      "label_vendor_name\n",
      "not cin\n",
      "['3rd floor, jos anex building.']\n",
      "label_address\n",
      "not cin\n",
      "['jos junction']\n",
      "label_none\n",
      "not cin\n",
      "['kochi']\n",
      "label_address\n",
      "not cin\n",
      "['kerala, code  :  32']\n",
      "label_none\n",
      "not cin\n",
      "['32aadcm0845m1zi']\n",
      "label_intents_OrgGST\n",
      "not cin\n",
      "['state name  :  kerala, code  :  32']\n",
      "label_none\n",
      "not cin\n",
      "['dated']\n",
      "label_none\n",
      "not cin\n",
      "['13-feb-2019']\n",
      "label_date\n",
      "not cin\n",
      "['destination']\n",
      "label_none\n",
      "not cin\n",
      "['despatch through']\n",
      "label_none\n",
      "not cin\n",
      "['terms of delivery']\n",
      "label_none\n",
      "not cin\n",
      "['description of goods']\n",
      "label_none\n",
      "not cin\n",
      "['hsn/sac']\n",
      "label_none\n",
      "not cin\n",
      "['quantity']\n",
      "label_none\n",
      "not cin\n",
      "['rate']\n",
      "label_none\n",
      "not cin\n",
      "['per']\n",
      "label_none\n",
      "not cin\n",
      "['amount']\n",
      "label_none\n",
      "not cin\n",
      "['no.']\n",
      "label_none\n",
      "not cin\n",
      "['9989']\n",
      "label_sac\n",
      "not cin\n",
      "['5 nos']\n",
      "label_quantity\n",
      "not cin\n",
      "['1,722.96 nos']\n",
      "label_amount\n",
      "not cin\n",
      "['8,614.80']\n",
      "label_tax_amount\n",
      "not cin\n",
      "['4 printed photo book']\n",
      "label_description\n",
      "not cin\n",
      "['printing&reproduction']\n",
      "label_description\n",
      "not cin\n",
      "['odr-1940(b)']\n",
      "label_none\n",
      "not cin\n",
      "['sheet-95']\n",
      "label_none\n",
      "not cin\n",
      "['5 albums']\n",
      "label_quantity\n",
      "not cin\n",
      "['cgst']\n",
      "label_none\n",
      "not cin\n",
      "['sgst']\n",
      "label_none\n",
      "not cin\n",
      "['round off']\n",
      "label_none\n",
      "not cin\n",
      "['43,074.00']\n",
      "label_tax_amount\n",
      "not cin\n",
      "['2,584.45']\n",
      "label_tax_amount\n",
      "not cin\n",
      "['2,584.45']\n",
      "label_tax_amount\n",
      "not cin\n",
      "['0.10']\n",
      "label_none\n",
      "not cin\n",
      "['total']\n",
      "label_none\n",
      "not cin\n",
      "['25 nos']\n",
      "label_quantity\n",
      "not cin\n",
      "['48,243.00']\n",
      "label_total_amount\n",
      "not cin\n",
      "['amount chargeable (in words)']\n",
      "label_none\n",
      "not cin\n",
      "['e. & o.e']\n",
      "label_none\n",
      "not cin\n",
      "['inr forty eight thousand two hundred forty three only']\n",
      "label_tot_in_words\n",
      "not cin\n",
      "['hsn/sac']\n",
      "label_none\n",
      "not cin\n",
      "['taxable']\n",
      "label_none\n",
      "not cin\n",
      "['central tax']\n",
      "label_none\n",
      "not cin\n",
      "['state tax']\n",
      "label_none\n",
      "not cin\n",
      "['total']\n",
      "label_none\n",
      "not cin\n",
      "['value rate amount rate amount tax amount']\n",
      "label_none\n",
      "not cin\n",
      "['9989']\n",
      "label_sac\n",
      "not cin\n",
      "['43,074.00 6% 2,584.456 % 2,584.45 5,168.90']\n",
      "label_tax_percent\n",
      "not cin\n",
      "['total 43,074.00']\n",
      "label_total_amount\n",
      "not cin\n",
      "['2,584.45']\n",
      "label_tax_amount\n",
      "not cin\n",
      "['2,584.45 5,168.90']\n",
      "label_tax_amount\n",
      "not cin\n",
      "['tax amount (in words)  :  inr five thousand one hundred sixty eight and ninety paise only']\n",
      "label_tot_in_words\n",
      "not cin\n",
      "[\"company's vat tin  :  32071162667\"]\n",
      "label_none\n",
      "not cin\n",
      "[\"company's pan  :  axqpm8931k\"]\n",
      "label_pan\n",
      "not cin\n",
      "['declaration']\n",
      "label_none\n",
      "not cin\n",
      "['we declare that this invoice shows the actual price of the']\n",
      "label_none\n",
      "not cin\n",
      "['goods described and that all particulars are true and correct.']\n",
      "label_none\n",
      "not cin\n",
      "['for mahalakshmi paper works']\n",
      "label_vendor_name\n",
      "not cin\n",
      "['arakyat']\n",
      "label_vendor_name\n",
      "not cin\n",
      "['authorised signatory']\n",
      "label_none\n",
      "not cin\n",
      "['this is a computer generated invoice']\n",
      "label_none\n",
      "not cin\n",
      "['aks']\n",
      "label_none\n",
      "not cin\n",
      "['rw']\n",
      "label_none\n",
      "not cin\n",
      "['ph : b484']\n",
      "label_cin\n",
      "not cin\n",
      "['2307010']\n",
      "label_sac\n",
      "not cin\n",
      "['jacobk.c']\n",
      "label_none\n",
      "not cin\n",
      "['naha']\n",
      "label_none\n",
      "not cin\n",
      "['2ks']\n",
      "label_none\n",
      "not cin\n",
      "['*v']\n",
      "label_none\n",
      "not cin\n",
      "['tila']\n",
      "label_none\n",
      "not cin\n",
      "['9-1925']\n",
      "label_date\n"
     ]
    }
   ],
   "source": [
    "Tot_in_words=[]\n",
    "Amounts=[]\n",
    "Amounts_conf=[]\n",
    "Amounts_name=[]\n",
    "Vendor_gst=[]\n",
    "Org_gst=[]\n",
    "cin=[]\n",
    "for i in final:\n",
    "    check_cin=re.search(r\"[a-zA-Z0-9%]{21}\",i)\n",
    "    if check_cin is None or check_cin.group().isalpha()==True:\n",
    "        print('not cin')\n",
    "    else:\n",
    "        check_cin=check_cin.group()\n",
    "        cin.append(check_cin)\n",
    "        continue\n",
    "    x = re.search(r\"[a-zA-Z0-9%]{15}\",i)\n",
    "    if x is None or x.group().isalpha()==True:\n",
    "        y=i\n",
    "        y=y.replace(\":\",\" : \")\n",
    "        #y=re.sub(\"\\.\\d{2}\",\"\",y)\n",
    "        y=y.lower()\n",
    "        a=np.array([y])\n",
    "        print(a)\n",
    "        output1= model.predict(a)\n",
    "        strList1 = ['label_address', 'label_amount', 'label_bill_period',\n",
    "       'label_cin', 'label_date', 'label_description', 'label_email',\n",
    "        'label_intents_OrgGST', 'label_intents_VendorGST',\n",
    "       'label_none', 'label_pan', 'label_ph_no', 'label_quantity', 'label_sac',\n",
    "       'label_tax_amount', 'label_tax_percent', 'label_tot_in_words',\n",
    "       'label_total_amount', 'label_vendor_name']\n",
    "        result1 = zip(output1[0]\n",
    "             , strList1)\n",
    "        z=set(result1)\n",
    "        greatest=0\n",
    "        for j in z:\n",
    "            if(j[0]>greatest):\n",
    "                greatest=j[0]\n",
    "                name=j[-1]\n",
    "                conf=j[0]\n",
    "        print(name)\n",
    "        if (name=='label_amount') or (name=='label_tax_amount') or (name=='label_total_amount'):\n",
    "#             r=re.search(r\"ph\",y)\n",
    "#             if r is None:\n",
    "            Amounts.append(y)\n",
    "            Amounts_name.append(name)\n",
    "            Amounts_conf.append(conf)\n",
    "        elif (name=='label_tot_in_words'):\n",
    "            Tot_in_words.append(y)\n",
    "    else:\n",
    "        y=x.group()\n",
    "        \n",
    "        if y[-2]==2 or y[-2]=='%' :\n",
    "            y = y[:-2] + 'z' + y[-1:]\n",
    "        if y[-3]=='i' or y[-3]=='I' :\n",
    "            y = y[:-3] + '1' + y[-2:]\n",
    "        y=y.lower()\n",
    "        a=np.array([y])\n",
    "        print(a)\n",
    "        output= model.predict(a)\n",
    "        strList = ['label_address', 'label_amount', 'label_bill_period',\n",
    "       'label_cin', 'label_date', 'label_description', 'label_email',\n",
    "        'label_intents_OrgGST', 'label_intents_VendorGST',\n",
    "       'label_none', 'label_pan', 'label_ph_no', 'label_quantity', 'label_sac',\n",
    "       'label_tax_amount', 'label_tax_percent', 'label_tot_in_words',\n",
    "       'label_total_amount', 'label_vendor_name']\n",
    "        result = zip(output[0]\n",
    "             , strList)\n",
    "        z=set(result)\n",
    "        greatest=0\n",
    "        for j in z:\n",
    "            if(j[0]>greatest):\n",
    "                if(j[-1]==\"label_intents_VendorGST\")or(j[-1]==\"label_intents_OrgGST\"):\n",
    "                    greatest=j[0]\n",
    "                    name=j[-1]\n",
    "                    conf=j[0]\n",
    "        print(name)\n",
    "        if(name=='label_intents_VendorGST'):\n",
    "            clean=x.group()\n",
    "            if clean[-2]=='2' or clean[-2]=='%' :\n",
    "                idx=-2\n",
    "                clean = clean[0:idx] + 'Z' + clean[idx+1:]\n",
    "            if clean[-3]=='I' or clean[-2]=='i' :\n",
    "                idx=-3\n",
    "                clean = clean[0:idx] + '1' + clean[idx+1:]\n",
    "            Vendor_gst.append(clean)\n",
    "        elif(name=='label_intents_OrgGST'):\n",
    "            clean=x.group()\n",
    "            if clean[-2]=='2' or clean[-2]=='%' :\n",
    "                idx=-2\n",
    "                clean = clean[0:idx] + 'Z' + clean[idx+1:]\n",
    "            if clean[-2]=='I' or clean[-2]=='i' :\n",
    "                idx=-3\n",
    "                clean = clean[0:idx] + '1' + clean[idx+1:]\n",
    "            Org_gst.append(clean)"
   ]
  },
  {
   "cell_type": "markdown",
   "metadata": {
    "colab_type": "text",
    "id": "NdB4tSxQ-jTc"
   },
   "source": [
    "## Dictionaries for extracting numbers from words (one to 1):\n",
    "* Loading a dictionary from a picklefile which contains the numbers in words and their corresponding numerical values (from 0 to 99,99,999)\n",
    "* Loading all possible numerical words to transform misspelt words(OCR/Human errors in invoices) to the correct representation"
   ]
  },
  {
   "cell_type": "code",
   "execution_count": 26,
   "metadata": {
    "colab": {
     "base_uri": "https://localhost:8080/",
     "height": 34
    },
    "colab_type": "code",
    "id": "t4T6oQhuLHZA",
    "outputId": "ab9cb390-087b-4600-92f8-4911fd216cbd"
   },
   "outputs": [
    {
     "name": "stdout",
     "output_type": "stream",
     "text": [
      "Mounted at /content/drive\n"
     ]
    }
   ],
   "source": [
    "from google.colab import drive\n",
    "drive.mount('/content/drive', force_remount=True)"
   ]
  },
  {
   "cell_type": "code",
   "execution_count": 31,
   "metadata": {
    "colab": {
     "base_uri": "https://localhost:8080/",
     "height": 70
    },
    "colab_type": "code",
    "id": "qjfuoZeo-2OV",
    "outputId": "35a6f263-b682-497b-911f-b3ca58a1a679"
   },
   "outputs": [
    {
     "name": "stdout",
     "output_type": "stream",
     "text": [
      "{'fifty', 'thirteen', 'fifteen', 'seventeen', 'eighty', 'eleven', 'hundred', 'eight', 'ninety', 'fourteen', 'forty', 'ten', 'sixteen', 'nineteen', 'two', 'seven', 'three', 'one', 'eighteen', 'nine', 'thirty', 'five', 'twelve', 'lakh', 'four', 'zero', 'seventy', 'twenty', 'thousand', 'six', 'sixty'}\n",
      "5\n"
     ]
    }
   ],
   "source": [
    "import pickle\n",
    "import difflib\n",
    "\n",
    "# with open('words2num.pickle', 'rb') as handle:\n",
    "#     magic = pickle.load(handle)\n",
    "DATA_PATH = \"/content/drive/My Drive/Data\"\n",
    "infile = open(DATA_PATH+'/words2num.pickle','rb')\n",
    "magic = pickle.load(infile)\n",
    "\n",
    "with open('unique_words_in_total.pickle', 'rb') as handle:\n",
    "    test= pickle.load(handle)\n",
    "print(test)\n",
    "#Sample Usage of word2num and difflib\n",
    "print(magic[difflib.get_close_matches('fibe', test)[0]])"
   ]
  },
  {
   "cell_type": "markdown",
   "metadata": {
    "colab_type": "text",
    "id": "zuQ9CYqfAfli"
   },
   "source": [
    "## Transforming the tot_in_words to a numerical form"
   ]
  },
  {
   "cell_type": "code",
   "execution_count": 33,
   "metadata": {
    "colab": {
     "base_uri": "https://localhost:8080/",
     "height": 50
    },
    "colab_type": "code",
    "id": "7J4H6TJEAgCJ",
    "outputId": "fd1dd58a-ebe3-4b7c-f855-b3f74d1bccd9"
   },
   "outputs": [
    {
     "name": "stdout",
     "output_type": "stream",
     "text": [
      "forty eight thousand two hundred forty three 48243\n",
      "five thousand one hundred sixty eight 5168\n"
     ]
    }
   ],
   "source": [
    "for i in range(0,len(Tot_in_words)):\n",
    "    Tot_in_words[i]=Tot_in_words[i].lower()\n",
    "    Tot_in_words[i]=re.sub(\"lakhs\",\"lakh\",Tot_in_words[i])\n",
    "    Tot_in_words[i]=re.sub(\"lacs\",\"lakh\",Tot_in_words[i])\n",
    "\n",
    "cleaned=[]\n",
    "for i in Tot_in_words:\n",
    "    i=re.sub(' and.*?paise','',i)\n",
    "    a=list(i.split())\n",
    "    string=''\n",
    "    if a[0]=='hundred' or a[0]=='thousand' or a[0]=='lakh':\n",
    "        string=string+'one'+' '\n",
    "    b=[]\n",
    "    for j in a:\n",
    "        if not difflib.get_close_matches(j.lower(), test):\n",
    "            j=j.lower()\n",
    "        else:\n",
    "            j=difflib.get_close_matches(j.lower(), test)[0]\n",
    "        if j.lower() in test:\n",
    "            b.append(j.lower())\n",
    "            string=string+j.lower()+' '\n",
    "    cleaned.append(string[:-1])\n",
    "total_from_words=[]\n",
    "for i in cleaned:\n",
    "    total_from_words.append(magic[i])\n",
    "    print(i,total_from_words[-1])"
   ]
  },
  {
   "cell_type": "markdown",
   "metadata": {
    "colab_type": "text",
    "id": "GJuvUGn7Av-t"
   },
   "source": [
    "## Logic to find out tax amount from the list of amounts in an invoice:"
   ]
  },
  {
   "cell_type": "code",
   "execution_count": 0,
   "metadata": {
    "colab": {},
    "colab_type": "code",
    "id": "-3NdtkGHA2O-"
   },
   "outputs": [],
   "source": [
    "# Amounts\n",
    "values=[]\n",
    "tax=[]\n",
    "def find_tax(Amounts):\n",
    "    highest=0\n",
    "    highest2=0\n",
    "    lowest=9999999999999\n",
    "    secondlowest=99999999999\n",
    "    from re import sub\n",
    "    from decimal import Decimal\n",
    "    def hasNumbers(s):\n",
    "        try:\n",
    "            float(s)\n",
    "            return True\n",
    "        except ValueError:\n",
    "            return False\n",
    "    i=0\n",
    "    for sep_amount in Amounts:\n",
    "        amount_sep=sep_amount.split()\n",
    "        for amount in amount_sep:\n",
    "            amount=amount.replace(\",\",\"\")\n",
    "            amount=re.sub(r'[A-Za-z\\+\\*\\?\\^\\$\\(\\)\\[\\]\\{\\}\\|]', '', amount)\n",
    "            if hasNumbers(amount) != False:\n",
    "                value = float(amount)\n",
    "                if value>0 :\n",
    "                    #value = Decimal(amount.strip('$'))\n",
    "                    values.append(value)\n",
    "                    if(Amounts_name[i]=='label_tax_amount'):\n",
    "                        if(value>highest):\n",
    "                            highest=value\n",
    "                        elif(value>highest2):\n",
    "                            highest2=value\n",
    "                        if(value<lowest):\n",
    "                            lowest=value\n",
    "                        elif(value<secondlowest):\n",
    "                            secondlowest=value\n",
    "        i=i+1\n",
    "    if(highest==highest2):\n",
    "        tax_amount1=highest+highest2\n",
    "    else:\n",
    "        tax_amount1=highest*2\n",
    "    flag=0\n",
    "    values.sort()\n",
    "    i=0\n",
    "    while(i<=len(values)-1):\n",
    "        j=i\n",
    "        while(j<=len(values)-1):\n",
    "            temp1=values[i]\n",
    "            temp2=values[j]\n",
    "            tax_amount=temp1+temp2\n",
    "            for value in values:\n",
    "                if(tax_amount==value):\n",
    "                    tax.append(tax_amount)\n",
    "                    flag=1\n",
    "            j=j+1\n",
    "        i=i+1\n",
    "\n",
    "    if(flag==1):\n",
    "        print(\"the right way\")\n",
    "        return pd.Series(tax).value_counts().idxmax()\n",
    "    else:\n",
    "        return tax_amount1"
   ]
  },
  {
   "cell_type": "code",
   "execution_count": 37,
   "metadata": {
    "colab": {
     "base_uri": "https://localhost:8080/",
     "height": 50
    },
    "colab_type": "code",
    "id": "G-Dmyq7vQvI5",
    "outputId": "b0d526ba-9664-46cb-8182-632754bc79eb"
   },
   "outputs": [
    {
     "name": "stdout",
     "output_type": "stream",
     "text": [
      "the right way\n"
     ]
    },
    {
     "data": {
      "text/plain": [
       "5168.9"
      ]
     },
     "execution_count": 37,
     "metadata": {
      "tags": []
     },
     "output_type": "execute_result"
    }
   ],
   "source": [
    "find_tax(Amounts)"
   ]
  },
  {
   "cell_type": "code",
   "execution_count": 0,
   "metadata": {
    "colab": {},
    "colab_type": "code",
    "id": "77myQPDjQy6J"
   },
   "outputs": [],
   "source": []
  }
 ],
 "metadata": {
  "colab": {
   "name": "Loading_model_and_viewing_predictions.ipynb",
   "provenance": [],
   "toc_visible": true,
   "version": "0.3.2"
  },
  "kernelspec": {
   "display_name": "Python 3",
   "language": "python",
   "name": "python3"
  },
  "language_info": {
   "codemirror_mode": {
    "name": "ipython",
    "version": 3
   },
   "file_extension": ".py",
   "mimetype": "text/x-python",
   "name": "python",
   "nbconvert_exporter": "python",
   "pygments_lexer": "ipython3",
   "version": "3.6.8"
  }
 },
 "nbformat": 4,
 "nbformat_minor": 1
}
